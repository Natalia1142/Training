{
 "cells": [
  {
   "cell_type": "markdown",
   "id": "c075f33c",
   "metadata": {},
   "source": [
    "# Тренировка"
   ]
  },
  {
   "cell_type": "code",
   "execution_count": 1,
   "id": "4bed6eff",
   "metadata": {},
   "outputs": [],
   "source": [
    "import pandas as pd\n",
    "import numpy as np\n",
    "import datetime\n",
    "from datetime import date\n",
    "import matplotlib.pyplot as plt\n",
    "import random\n",
    "import math\n"
   ]
  },
  {
   "cell_type": "markdown",
   "id": "2f2f9fe3",
   "metadata": {},
   "source": [
    "**Загружаем последние созданные результаты тренировки и базы данных, которые будем использовать.**"
   ]
  },
  {
   "cell_type": "code",
   "execution_count": 2,
   "id": "4bde4311",
   "metadata": {},
   "outputs": [],
   "source": [
    "diary=pd.read_excel (r'C:/Users/Natalya/Desktop/Учёба/diary.xlsx')\n",
    "data=pd.read_excel('C:/Users/Natalya/Desktop/ноябрь 2024/Ноябрь МСК.xlsx')\n",
    "data_dates=pd.read_csv('C:/Users/Natalya/Desktop/Учёба/Отчёт с датами.csv',delimiter=';')"
   ]
  },
  {
   "cell_type": "code",
   "execution_count": 3,
   "id": "733895cc",
   "metadata": {},
   "outputs": [],
   "source": [
    "def type_of_task(type):\n",
    "    diary[diary['раздел']==type].pivot_table(index=['дата','раздел'],columns='решила?',values='задание',aggfunc='count',fill_value=0).plot.bar()"
   ]
  },
  {
   "cell_type": "markdown",
   "id": "e21a4790",
   "metadata": {},
   "source": [
    "### Задания на тему Перевод и Определения"
   ]
  },
  {
   "cell_type": "code",
   "execution_count": 4,
   "id": "9cbbc27d",
   "metadata": {},
   "outputs": [],
   "source": [
    "dictionary={'Retention': 'ретейшен - удержание',\n",
    "            'height': 'хайт - рост',\n",
    "            'Weight': 'вейт - вес',\n",
    "            'CAC, или Customer Acquisition Cost': 'Кастумер аквизишен кост - Стоимость привлечения клиента ',\n",
    "            'Acquisition': 'аквизишен - Приобретение ',\n",
    "             'cost': 'кост - стоимость',\n",
    "            'ARPU, или Average Revenue Per User': 'Средний Доход на Одного Пользователя',\n",
    "             'Average': 'эвридж - средний ',\n",
    "             'Revenue': 'ревенью - доход',\n",
    "             'Per User': 'Пё юзер - На каждого пользователя',\n",
    "             'query': 'Квери - запрос',\n",
    "             'Unit': 'Юнет - Единица измерения',\n",
    "             'User Experience Research': 'UX исследования – изучение потребительского поведения' ,\n",
    "             'Experience': 'Экспириенс - Опыт',\n",
    "             'Research': 'Рисач - Исследование',\n",
    "             'Reach': 'рич - Охват, достижения',\n",
    "             'rich': 'рич - богатый',\n",
    "             'Impact': 'импект - влияние',\n",
    "             'Confidence': 'конфедентс - уверенность',\n",
    "             'Efforts': 'эфёртс - усилие',\n",
    "             'insert': 'инсерт - Вставить ',\n",
    "             'Warehouse': 'Верехауз - Склад',\n",
    "             'Event': 'Ивент  - событие',\n",
    "             'comprehensions': 'косперхейшенс - понимания',\n",
    "             'apply': 'эплай - применить',\n",
    "             'unterminated ': 'антерминейтед - незавершенный',\n",
    "             'detected': 'детектид - обнаружен',\n",
    "             'common table expressions': 'общие табличные выражения',\n",
    "             'common': 'камон - общие',\n",
    "             'expressions': 'Экспрешенс  - выражения',\n",
    "             'Score':'Скор, Счёт, оценка',\n",
    "             'Dimension':'измерение',\n",
    "             'ad-hoc':'эд хок Ad hoc (дословно — к этому) — латинская фраза, означающая «для данного случая», ',\n",
    "             'KPI':'(Key Performance Indicators) — это ключевые показатели эффективности или деятельности',\n",
    "             'Indicators':'Индикейтос, показатель',\n",
    "             'Performance':'Производительность, а также представление',\n",
    "             'members':'мемберс, элементы, члены',\n",
    "             'edit':'эдит, редактировать',\n",
    "             'CURRENT':'карент текущий','describe':'описывать',\n",
    "             'e-commerce':'E-commerce (электронная коммерция) — это сфера деятельности, связанная с покупкой и продажей товаров и услуг в интернете'}\n",
    "\n",
    "concepts={'База данных' :'База данных — это набор данных, хранящихся в структурированном виде',\n",
    "         'Система управления базами данных(СУБД)': 'Система управления базами данных(СУБД) — это совокупность языковых и программных средст,которая осуществляет доступ к данным, позволяет их создавать,менять и удалять, обеспечивает безопасность данных и т.д.PostgreSQL , Clickhouse, MySQL',\n",
    "          'Реляционные БД':'Реляционными называются базы данных, в основе построения которых лежит реляционная модель. В такой базе данные структурированы в виде таблиц, которые содержат строки и столбцы.',\n",
    "          'Нереляционная БД':'Нереляционная база данных (NoSQL) — это база данных, в которой в отличие от большинства традиционных систем баз данных не используется табличная схема строк и столбцов. В этих базах данных применяется модель хранения, оптимизированная под конкретные требования типа хранимых данных. Например, данные могут храниться как простые пары \"ключ — значение\"',\n",
    "          'Порядок выполнения запроса':'- Порядок выполнения запроса:1.\tFROM 2.\tJOIN 3.WHERE 4.\tGROUP BY 5.HAVING 6.SELECT 7.DISTINCT 8.UNION 9.ORDER BY 10.LIMIT и OFFSET',\n",
    "          'Виды джойнов':'INNER JOIN – совпадающим значениям в столбцы, по которому связываем LEFT OUTER JOIN – когда остаются все значения из левой таблицы и прибавляются из правой по совпадающим значениям RIGHT OUTER JOIN – когда остаются все значения из правой таблицы и прибавляются из левой  по совпадающим значениямFULL OUTER JOIN – когда остаются все значения из обеих таблиц',\n",
    "          'Первичный ключ':'Первичный ключ (PK) — это уникальный идентификатор каждой записи, которое не может быть NULL',\n",
    "          'Подзапрос':'Подзапрос SQL - это запрос, который включается в другой запрос. Подзапрос может быть в FROM, тогда его нужно указать в скобках и добавить псевдоним as…, либо может быть после WHERE Подзапросы указывают после ключевого слова WITH  называют общие табличные выражения, или CTE (от англ. common table expressions',\n",
    "          'DWH (Data Warehouse или по русски Хранилище данных)':'DWH (Data Warehouse или по русски Хранилище данных) - это специализированная система для хранения и управления большими объемами данных, которые объединяются из разных источников с целью анализа и построения отчетов',\n",
    "          'Основные статистики': 'Основные статистики Мода, Медиана, среднее арифметическое',\n",
    "          'Основные библиотеки':'Основные библиотеки Pandas (Уэс МакКинни) книга Python и анализ данных, Numpy, Matplotlib, Scipy (сайпай) , seaborn',\n",
    "          'Метрики DAU, WAU, MAU':'Метрики DAU (Daily Active Users) — это количество уникальных пользователей за сутки. WAU (Weekly Active Users) — это количество пользователей за неделю. MAU (Monthly Active Users) — это кол-во уникальных пользователей за месяц',\n",
    "          'Конверсия':'Кол-во пользователей совершивших целевое действие/ общее количество пользователей *100 Например Кол-во пользователей совершивших покупку/ пользователей всего *100',\n",
    "          'Conversion Rate':'Конверсия (Conversion Rate)(конвершен рейт коэффициент конверсии): процент посетителей, которые совершили покупку. Высокий уровень конверсии свидетельствует о том, что сайт или магазин успешно привлекает и удерживает клиентов.',\n",
    "          'Уровень удержания клиентов (Customer Retention Rate':'Уровень удержания клиентов (Customer Retention Rate): процент клиентов, которые повторно совершают покупки. Высокий уровень удержания клиентов говорит о том, что бизнес успешно строит долгосрочные отношения с клиентами.Retention Rate =количество активных пользователей на текущий день/ количество активных пользователей на первый день)',\n",
    "          'Churn Rate':'Метрика, обратная Retention Rate, называется Churn Rate(чайн рейт уровень оттока). Она показывает, какой процент пользователей прекращает использовать сервис с течением времени. Churn Rate =1-(количество активных пользователей на n день / количество активных пользователей на (n -1)день)',\n",
    "          'ROI (Return on Investment':'ROI (Return on Investment)= (Выручка – Затраты на привлечение)/ Затраты на привлечение',\n",
    "          'ARPU' :'ARPU средняя выручка на одного пользователя= Выручка/Количество Пользователей ',\n",
    "          'ARPPU':'ARPPU средняя выручка на одного платящего пользователя = Выручка/Количество платящего Пользователей',\n",
    "          'Лайфтайм':'Лайфтайм — время от момента регистрации пользователя продукта до момента наступления какого-то важного с точки зрения бизнеса события. Например, до очередного входа в систему, создания учётной записи пользователя или — чаще всего — до совершения первой или последующих покупок.',\n",
    "          'Lifetime Value (LTV): ':'общая сумма дохода, которую приносит один клиент за весь период взаимодействия с компанией. Высокий LTV свидетельствует о том, что клиенты остаются с компанией на длительный срок и приносят значительный доход. Выручка\\ количество пользователей (даже которые не сделали покупки).',\n",
    "          'CAC, или Customer Acquisition Cost':'CAC, или Customer Acquisition Cost, — стоимость привлечения одного клиента. Сумма денег, в которую компании обходится каждый новый клиент. В сущности, CAC — это инвестиции в маркетинг',\n",
    "          'ROI или Return On Investment':'ROI или Return On Investment, — окупаемость инвестиций.',\n",
    "          'Юнит-экономика ':'Юнит-экономика показывает, сколько бизнес зарабатывает с одного юнита. Юнит — это то, что приносит доход. Это может быть клиент, сделка, одна продажа продукта или услуги. Другими словами, вы считаете, сколько зарабатываете на одном ученике вашей школы, или на одном проданном велосипеде, или на одном вендинговом аппарате с годовым обслуживанием.',\n",
    "          'RPV (от англ. revenue per visitor, ':'Средний доход с одного привлечённого пользователя называют аббревиатурой RPV (от англ. revenue per visitor, «доход с посетителя»).',\n",
    "          'Лендинг ':'Лендинг (от англ. landing page — «посадочная страница») — это одностраничный сайт с краткой информацией о товаре, услуге или мероприятии',\n",
    "          'Лид':'Лид — это потенциальный клиент, который заинтересовался товаром или услугой и оставил свои контакты',\n",
    "          'UX исследования (User Experience Research) ':'UX исследования (User Experience Research) — это процесс изучения поведения, потребностей и мотиваций пользователей с целью улучшения их взаимодействия с продуктом или сервисом.',\n",
    "          'Ключевые объекты СУБД (Таблицы)':'Таблицы Они состоят из строк и столбцов, где каждая строка представляет собой запись, а каждый столбец — атрибут данных. Таблицы позволяют организовать данные в логическую структуру, что упрощает их управление и поиск.Таблицы могут содержать различные типы данных, такие как числовые, строковые, даты и временные метки. Это позволяет хранить разнообразную информацию в одной базе данных.',\n",
    "          'Ключевые объекты СУБД (Индексы)': 'Индексы используются для ускорения поиска данных в таблицах. Они создаются на основе одного или нескольких столбцов и позволяют быстро находить нужные записи',\n",
    "          'Ключевые объекты СУБД (Представления)':'Представления (views) — это виртуальные таблицы, которые создаются на основе запросов к одной или нескольким таблицам. Они позволяют упрощать сложные запросы и обеспечивать безопасность данных. Представления могут использоваться для представления данных в удобном для пользователя виде, скрывая сложные детали реализации.Представления также могут использоваться для ограничения доступа к данным. Например, можно создать представление, которое показывает только определенные столбцы таблицы или только записи, соответствующие определенным условиям. Это позволяет ограничить доступ пользователей к конфиденциальной информации.',\n",
    "          'Ключевые объекты СУБД (Хранимые процедуры)':'Хранимые процедуры — это наборы SQL-команд, которые сохраняются в СУБД и могут выполняться по запросу. Они позволяют автоматизировать часто выполняемые задачи и улучшать производительность. Хранимые процедуры могут включать сложные логические операции и условия, что позволяет выполнять сложные задачи с минимальными усилиями.Хранимые процедуры также могут улучшить безопасность и целостность данных. Например, можно создать хранимую процедуру для выполнения всех операций по обновлению данных, что позволяет централизованно контролировать и проверять все изменения.',\n",
    "          'Ключевые объекты СУБД (Триггеры)':'Триггеры — это специальные объекты, которые автоматически выполняются при определенных событиях в таблицах, таких как вставка, обновление или удаление данных. Они используются для обеспечения целостности данных и автоматизации задач. ',\n",
    "          'Корреляция ':'Взаимосвязь двух или нескольких величин называется «корреляция». Определяется с помощью коэффициента корреляции Пирсона. Он помогает определить наличие линейной связи между величинами и принимает значения от -1 до 1. ',          \n",
    "          'Коллекции в Python: список, множество, кортеж, словарь':'Списки в Python — это изменяемые последовательности элементов, которые могут содержать элементы различных типов. Списки создаются с помощью квадратных скобок [],Множество (set) в Python — это изменяемый набор уникальных и неупорядоченных элементов {}. Кортежи в Python — это неизменяемые последовательности элементов, которые создаются с помощью круглых скобок () можно обращаться по индексам значения могут повторяться, Словари в Python — это коллекции, которые хранят пары \"ключ-значение\". Ключи должны быть уникальными и неизменяемыми (например, строки, числа или кортежи), а значения могут быть любого типа.{}',\n",
    "          'Числа Фибоначчи':'Числа Фибоначчи — это последовательность чисел, которые задаются по определённому правилу. Оно звучит так: каждое следующее число равно сумме двух предыдущих. Первые два числа заданы сразу и равны 0 и 1.Вот как выглядит последовательность Фибоначчи:0, 1, 1, 2, 3, 5, 8, 13, 21, 34, 55, 89, 144, 233, 377, 610, 987, 1597, 2584, 4181',\n",
    "          'интеграл':'интеграл — это площадь фигуры под графиком функции',\n",
    "          'ad-hoc запрос':'Ad Hoc запрос — единичная SQL-команда, предназначенная для мгновенного извлечения данных. Он представляет собой своеобразный отчёт, создаваемый на заказ: специфический, оперативный и предназначенный для однократного использования.',\n",
    "          'Лямбда-функция':'Лямбда-функции – это анонимные функции, которые могут включать только одно выражение. Они обычно используются для выполнения простых операций, не требующих полного определения функции с помощью ключевого слова def. Лямбда-функции могут принимать любое количество аргументов, но могут возвращать только одно значение.',\n",
    "          'АКтуарий':'АКТУАРИЙ – специалист в области актуарных расчётов, экономики и финансов, решающий задачи финансовой безопасности, оценки рисков и разработки математически обоснованных страховых, финансовых, инвестиционных, социальных и пенсионных схем, статистического анализа с целью определения вероятностей страховых событий, заболеваний и смертей, ущербов от стихийных бедствий и катастроф.',\n",
    "          'ETL':'ETL — это процесс транспортировки данных, при котором информацию из разных мест преобразуют и кладут в новое место. ETL расшифровывается как extract, transform, load, то есть «извлечь, трансформировать, загрузить».',\n",
    "          'CRM-система':'CRM-система (Customer Relationship Management) — это программа для автоматизации и контроля взаимодействия компании с клиентами. Она хранит и структурирует информацию о заказах и покупателях, помогает оптимизировать маркетинг, повысить продажи и качество обслуживания. 1Простыми словами, это сервис, который собирает данные о клиентах компании и формирует из них профили для дальнейшей работы. 2',\n",
    "          'Пайплайн':'Пайплайн — это последовательность взаимосвязанных шагов, на каждом из которых выполняется определённая задача, а результаты передаются на следующий шаг',\n",
    "          'Apache Airflow':'Apache Airflow — это открытое программное обеспечение для создания, выполнения, мониторинга и оркестровки потоков операций по обработке данных. 1Платформа позволяет разработчикам контролировать и мониторить сложные рабочие процессы, выполняемые в локальных и облачных средах. 2',\n",
    "          'ML':'machine learning - машинное обучение',\n",
    "          'Data Warehouse, DWH':'Корпоративное хранилище данных (Data Warehouse, DWH) — это предметно-ориентированная база данных, которая консолидирует важную бизнес-информацию и позволяет в автоматическом режиме подготавливать консолидированные отчёты. ',\n",
    "          'DDL команды':\"DDL (Data Definition Language) Язык определения данных- это язык, используемый в SQL для создания, изменения и удаления объектов базы данных. Основные команды DDL включают CREATE, ALTER, и DROP. Они служат для создания новых таблиц, изменения структуры уже существующих таблиц и удаления ненужных объектов \",\n",
    "          \"Система обработки данных OLAP\":\"OLAP (Online Analytical Processing) - это технология обработки данных, предназначенная для анализа больших объемов информации. Она позволяет анализировать данные из различных углов зрения, строить многомерные модели данных, проводить множественные агрегирования и детализации данных для более глубокого понимания процессов и явлений. OLAP-системы используются в бизнесе для принятия стратегических решений, планирования и анализа. \",\n",
    "          \"Система обработки данных OLTP\":\"OLTP (Online Transaction Processing) - это метод обработки данных, который используется для выполнения операций с транзакциями в реальном времени. OLTP обычно применяется в базах данных для выполнения операций типа чтения, записи и изменения данных, таких как операции с банковскими счетами, онлайн заказами или бронированием билетов. Этот метод обработки данных предназначен для оперативного доступа к информации и поддержки бизнес-процессов, которые требуют быстрой и надежной обработки данных\",\n",
    "          'Назвать какие метрики знаешь (12 шт)':\"DAU, WAU, MAU, Конверсия CR (Conversion Rate),Уровень удержания клиентов CRR(Customer Retention Rate), Churn Rate(чайн рейт уровень оттока),ROI (Return on Investment),ARPU – средняя выручка на одного пользователя,ARPPU - средняя выручка на одного платящего пользователя,Lifetime Value (LTV):,CAC, или Customer Acquisition Cost, — стоимость привлечения одного клиента,ROI или Return On Investment, — окупаемость инвестиций\",\n",
    "          'Витрина данных':'Витрина данных — это простая форма хранилища данных, ориентированная на одно направление деятельности или тему. С витриной данных сотрудники могут быстрее получать доступ к данным и статистическим показателям, потому что не нужно тратить время на поиск по более сложному хранилищу данных или вручную собирать данные из разных источников.',\n",
    "          'Типы данных в Python ':'Логические (boolean True, False), числа(int,float), строки(string), байты, кортеж(tuple) , список(list), множество(set), словарь(dict). list, set, dict можно изменять.' ,\n",
    "         \n",
    "    }\n"
   ]
  },
  {
   "cell_type": "markdown",
   "id": "9f9841ff",
   "metadata": {},
   "source": [
    "# 1. Назови перевод"
   ]
  },
  {
   "cell_type": "code",
   "execution_count": 6,
   "id": "8d35d977",
   "metadata": {},
   "outputs": [
    {
     "name": "stdout",
     "output_type": "stream",
     "text": [
      "задание номер 1-  назови определение слова common\n",
      "Нажми проверить\n",
      "камон - общие\n",
      "Получилось решить задание?да\n",
      "задание номер 2-  назови определение слова Experience\n",
      "Нажми проверить\n",
      "Экспириенс - Опыт\n",
      "Получилось решить задание?да\n",
      "задание номер 3-  назови определение слова rich\n",
      "Нажми проверить\n",
      "рич - богатый\n",
      "Получилось решить задание?да\n",
      "задание номер 4-  назови определение слова edit\n",
      "Нажми проверить\n",
      "эдит, редактировать\n",
      "Получилось решить задание?да\n",
      "задание номер 5-  назови определение слова expressions\n",
      "Нажми проверить\n",
      "Экспрешенс  - выражения\n",
      "Получилось решить задание?да\n",
      "Решено 5 заданий, продолжить обучение в этом разделе?нет\n"
     ]
    }
   ],
   "source": [
    "close='нет'\n",
    "go='да'\n",
    "while go!=close:\n",
    "    for i in range(1,6):\n",
    "        word=random.choice(list(dictionary))\n",
    "        print(f'задание номер {i}-  назови определение слова {word}')\n",
    "        input('Нажми проверить')\n",
    "        print(dictionary[word])\n",
    "        answer= input('Получилось решить задание?')\n",
    "        diary.loc[len(diary)]=[date.today(),'перевод',word,answer]\n",
    "\n",
    "        \n",
    "    go=input('Решено 5 заданий, продолжить обучение в этом разделе?')\n",
    "    "
   ]
  },
  {
   "cell_type": "code",
   "execution_count": 7,
   "id": "b724cc02",
   "metadata": {},
   "outputs": [],
   "source": [
    "diary['дата'] = pd.to_datetime(diary['дата']).dt.date"
   ]
  },
  {
   "cell_type": "markdown",
   "id": "a1e2921c",
   "metadata": {},
   "source": [
    "### Результаты"
   ]
  },
  {
   "cell_type": "code",
   "execution_count": 8,
   "id": "4de6c157",
   "metadata": {},
   "outputs": [
    {
     "data": {
      "image/png": "[encoded data removed]",
      "text/plain": [
       "<Figure size 640x480 with 1 Axes>"
      ]
     },
     "metadata": {},
     "output_type": "display_data"
    }
   ],
   "source": [
    "type_of_task('перевод')"
   ]
  },
  {
   "cell_type": "markdown",
   "id": "8d440dc7",
   "metadata": {},
   "source": [
    "# 2. Расскажи определение"
   ]
  },
  {
   "cell_type": "code",
   "execution_count": 9,
   "id": "9151c429",
   "metadata": {},
   "outputs": [
    {
     "name": "stdout",
     "output_type": "stream",
     "text": [
      "задание номер 1-  назови определение слова Лайфтайм\n",
      "Нажми проверить\n",
      "Лайфтайм — время от момента регистрации пользователя продукта до момента наступления какого-то важного с точки зрения бизнеса события. Например, до очередного входа в систему, создания учётной записи пользователя или — чаще всего — до совершения первой или последующих покупок.\n",
      "Получилось решить задание?да\n",
      "задание номер 2-  назови определение слова ARPPU\n",
      "Нажми проверить\n",
      "ARPPU средняя выручка на одного платящего пользователя = Выручка/Количество платящего Пользователей\n",
      "Получилось решить задание?да\n",
      "задание номер 3-  назови определение слова ARPU\n",
      "Нажми проверить\n",
      "ARPU средняя выручка на одного пользователя= Выручка/Количество Пользователей \n",
      "Получилось решить задание?да\n",
      "задание номер 4-  назови определение слова Data Warehouse, DWH\n",
      "Нажми проверить\n",
      "Корпоративное хранилище данных (Data Warehouse, DWH) — это предметно-ориентированная база данных, которая консолидирует важную бизнес-информацию и позволяет в автоматическом режиме подготавливать консолидированные отчёты. \n",
      "Получилось решить задание?да\n",
      "задание номер 5-  назови определение слова ETL\n",
      "Нажми проверить\n",
      "ETL — это процесс транспортировки данных, при котором информацию из разных мест преобразуют и кладут в новое место. ETL расшифровывается как extract, transform, load, то есть «извлечь, трансформировать, загрузить».\n",
      "Получилось решить задание?да\n",
      "Решено 5 заданий, продолжить обучение в этом разделе?нет\n"
     ]
    }
   ],
   "source": [
    "close='нет'\n",
    "go='да'\n",
    "while go!=close:\n",
    "    for i in range(1,6):\n",
    "        concept=random.choice(list(concepts))\n",
    "        print(f'задание номер {i}-  назови определение слова {concept}')\n",
    "        input('Нажми проверить')\n",
    "        print(concepts[concept])\n",
    "        answer= input('Получилось решить задание?')\n",
    "        diary.loc[len(diary)]=[date.today(),'определения',concept,answer]\n",
    "\n",
    "        \n",
    "    go=input('Решено 5 заданий, продолжить обучение в этом разделе?')\n",
    "    "
   ]
  },
  {
   "cell_type": "markdown",
   "id": "1c7ce9d6",
   "metadata": {},
   "source": [
    "### Результаты"
   ]
  },
  {
   "cell_type": "code",
   "execution_count": 11,
   "id": "3b955ddc",
   "metadata": {},
   "outputs": [
    {
     "data": {
      "image/png": "[encoded data removed]",
      "text/plain": [
       "<Figure size 640x480 with 1 Axes>"
      ]
     },
     "metadata": {},
     "output_type": "display_data"
    }
   ],
   "source": [
    "type_of_task('определения')"
   ]
  },
  {
   "cell_type": "markdown",
   "id": "bd9e6973",
   "metadata": {},
   "source": [
    "# 3. Задачи на индексы"
   ]
  },
  {
   "cell_type": "code",
   "execution_count": 12,
   "id": "fa3af82d",
   "metadata": {},
   "outputs": [],
   "source": [
    "counter=3"
   ]
  },
  {
   "cell_type": "code",
   "execution_count": 13,
   "id": "2bcaa93d",
   "metadata": {},
   "outputs": [],
   "source": [
    "tasks_slice={'Выведи: профессиональный и люблю работу':'phrase[1::2]',\n",
    "      'Выведи: аналитик и я':'phrase[2:5]',\n",
    "      'Выведи тремя способами: люблю свою работу':'phrase[-3:],phrase[5:8],phrase[5:]',\n",
    "      'Выведи двумя способами: свою':'phrase[-2],phrase[6]',\n",
    "      'Выведи: люблю работу':'phrase[-3]+\" \"+phrase[-1]',\n",
    "       'Выведи: я аналитик я свою':'phrase[::2]',\n",
    "       'Выведи: работу люблю и профессионал':'phrase[::-2]',\n",
    "       'Выведи: работу свою люблю я и аналитик профессиональный я':'phrase[::-1]',\n",
    "       'Выведи: утобар юовс юлбюл я и китилана йыньланоиссефорп Я':\"' '.join(phrase)[::-1]\",\n",
    "      'Вывести из списка от 1 до 20  значения списка с индексами 4 8 12 16':'4:17:4'\n",
    "      }\n",
    "\n",
    "phrase=['Я','профессиональный','аналитик','и','я','люблю','свою','работу']"
   ]
  },
  {
   "cell_type": "markdown",
   "id": "cfbf3630",
   "metadata": {},
   "source": [
    "### Реши задачу:"
   ]
  },
  {
   "cell_type": "code",
   "execution_count": 30,
   "id": "72239b68",
   "metadata": {},
   "outputs": [
    {
     "data": {
      "text/plain": [
       "'Вывести из списка от 1 до 20  значения списка с индексами 4 8 12 16'"
      ]
     },
     "execution_count": 30,
     "metadata": {},
     "output_type": "execute_result"
    }
   ],
   "source": [
    "task_slice=random.choice(list(tasks_slice))\n",
    "task_slice"
   ]
  },
  {
   "cell_type": "markdown",
   "id": "4447e22b",
   "metadata": {},
   "source": [
    "### Моё решение:"
   ]
  },
  {
   "cell_type": "code",
   "execution_count": 37,
   "id": "1941c3b0",
   "metadata": {},
   "outputs": [
    {
     "data": {
      "text/plain": [
       "[5, 9, 13, 17]"
      ]
     },
     "execution_count": 37,
     "metadata": {},
     "output_type": "execute_result"
    }
   ],
   "source": [
    "[i for i in range(1,21)][4:17:4]"
   ]
  },
  {
   "cell_type": "markdown",
   "id": "ad8971ac",
   "metadata": {},
   "source": [
    "### Проверить решение:"
   ]
  },
  {
   "cell_type": "code",
   "execution_count": 38,
   "id": "018e80d2",
   "metadata": {},
   "outputs": [
    {
     "data": {
      "text/plain": [
       "'4:17:4'"
      ]
     },
     "execution_count": 38,
     "metadata": {},
     "output_type": "execute_result"
    }
   ],
   "source": [
    "tasks_slice[task_slice]"
   ]
  },
  {
   "cell_type": "code",
   "execution_count": 39,
   "id": "01223c28",
   "metadata": {},
   "outputs": [
    {
     "name": "stdout",
     "output_type": "stream",
     "text": [
      "Получилось решить задание?да\n"
     ]
    }
   ],
   "source": [
    "answer= input('Получилось решить задание?')\n",
    "diary.loc[len(diary)]=[date.today(),'задача на срезы',task_slice,answer]"
   ]
  },
  {
   "cell_type": "code",
   "execution_count": 40,
   "id": "73868d51",
   "metadata": {},
   "outputs": [
    {
     "name": "stdout",
     "output_type": "stream",
     "text": [
      "Осталось решить 0\n"
     ]
    }
   ],
   "source": [
    "counter=counter-1\n",
    "print(f'Осталось решить {counter}')\n"
   ]
  },
  {
   "cell_type": "markdown",
   "id": "b88c9f3c",
   "metadata": {},
   "source": [
    "### Результаты"
   ]
  },
  {
   "cell_type": "code",
   "execution_count": 41,
   "id": "a5ed961a",
   "metadata": {},
   "outputs": [
    {
     "data": {
      "image/png": "[encoded data removed]",
      "text/plain": [
       "<Figure size 640x480 with 1 Axes>"
      ]
     },
     "metadata": {},
     "output_type": "display_data"
    }
   ],
   "source": [
    "type_of_task('задача на срезы')"
   ]
  },
  {
   "cell_type": "markdown",
   "id": "5244810b",
   "metadata": {},
   "source": [
    "# 4. Задачи Python"
   ]
  },
  {
   "cell_type": "code",
   "execution_count": 42,
   "id": "3c6c8b57",
   "metadata": {},
   "outputs": [],
   "source": [
    "counter=5"
   ]
  },
  {
   "cell_type": "code",
   "execution_count": 43,
   "id": "d3225a3e",
   "metadata": {},
   "outputs": [],
   "source": [
    "df=pd.DataFrame({'Name':['Natasha','Каte','Olya','Max'],'Age':[32,10,37,32]})\n",
    "words = [\"apple\", \"bat\", \"cat\", \"dog\", \"dogs\"]\n",
    "my_number='89652244294'\n",
    "numbers=[4,5,3,2,2,5]\n",
    "dict1={1:[3,9,0,55,1],\n",
    "      2:['Маша',0,5,15],\n",
    "      3:[30,91,0,50,11],\n",
    "      4:[34,9,0,5,12]}\n",
    "super_set={4,9,2,1,5}\n",
    "tasks__to_create={'Создание списка четных чисел от 0 до 9':'x for x in range(10) if x % 2 == 0',\n",
    "                 'Создание списка слов длиной больше 3 символов из списка words ':'[word for word in words if len(word) > 3]',\n",
    "                 'посчитать сумму квадратов списка numbers обычным циклом':'\"(a=0\\nfor i in numbers:\\n   a=a+i**2)\"',\n",
    "                 'посчитать сумму квадратов списка numbers одной строкой':'sum([i**2 for i in numbers ])',\n",
    "                 'найти сумму квадратов всех значений с словаре dict1':\"'z=0\\nfor i in dict1.values():\\n    for x in i:\\n        if type(x)==int:\\n            z=z+x**2\\nz'\",\n",
    "                 'умножь на 10 каждое число от 1 до 5':'x*10 for x in range(1, 6)',\n",
    "                 'сделать с большой буквы все слова phrase с помощью map':'list(map(str.upper,phrase))',\n",
    "                 'вывести слова print(\"apple\", \"bat\", \"cat\") с разделителем * ':'print(\"apple\", \"bat\", \"cat\", sep=\"*\")',\n",
    "                 'умножить на 2 каждый элемент numbers с помощью map и lambda':'list(map(lambda x: x*2 , numbers))',\n",
    "                 'написать функцию def, которая возращает для элементов numbers от хорошо до плохо':\"def f(x):\\nfor i in x:\\nif i==2:\\nprint ('плохо')\\nelif i==3:\\nprint ('удовлетворительно')\\nelif i==4:\\nprint ('хорошо')\\nelif i==5:\\nprint ('отлично')\",\n",
    "                 'найти сумму numbers':'sum(numbers)',\n",
    "                 'найти максимальное numbers':'max(numbers)',\n",
    "                 'найти минимальное numbers':'min(numbers)',\n",
    "                 'отсортировать список numbers по возрастанию':'sorted(numbers)',\n",
    "                 'отсортировать список numbers по убыванию':'sorted(numbers, reverse=True)',\n",
    "                 'найти факториал 10 двумя способами':'math.factorial(10),\"x=1\\nfor i in range(1,11):\\nx=x*i\\nprint(x)\"',        \n",
    "                 'заменить первые 3 цифры и последние 3 цифры my_number на ххх':\"a=my_number.replace(my_number[:3], 'xxx')\\na=a.replace(a[-3:], 'xxx')\\na\",\n",
    "                 'Посмотреть тип данных my_number':'type(my_number)',\n",
    "                  \"найти индекс вхождения слова dog в списке words\":\"words.index('dog')\",\n",
    "                  \"Добавить слово fish в лист words \":\"words.append('fish')\",\n",
    "                  \"Добавить слова банан и груша в лист words\":\"words.extend(['банан','груша'])\",\n",
    "                  \"добавить слова курица на место индекса 2 в лист words \":\"words.insert(2,'курица') или words[2]='курица' \",\n",
    "                  \"удалить слово dogs из списка words\":\"words.remove('dogs')\",\n",
    "                  'удалить из списка words слово с индексом 0':'words.pop(0) или del words[0]',\n",
    "                  'удалить из списка срез с 2 по 6':'del words[2:6]',\n",
    "                  'создать множество set из цифр, пустое множество, множество из листа':'my_set1 = {1, 9, 4}, my_set2 =set(),my_set3 = set([1, 7,9])',\n",
    "                  'удалить элемент 4 из super_set':'super_set.remove(4)',    \n",
    "                  'добавить один и несколько элементов в множество super_set':'my_set3.add(55),my_set3.update([\"hello\",5,33])',   \n",
    "                  'создай пустой кортеж, кортеж из 5 элементов, вывести с 1 по 3 элемент кортежа':'a=(),a=(6,9,4,0,5),a[:3]',\n",
    "                  'проранжировать числа от 15 до 25 в обратном порядке с шагом 2':'[i for i in range(25,14,-2)]',\n",
    "                  'написать цикл по 3 листам':'for i,r,p in zip(s,n,o)',\n",
    "                  'отобразить значение ключа 9 словаря dict1, если нет значения отобразить \"нет такого ключа\"':\"dict1.get(9, 'Нет такого')\",\n",
    "                  'добавить новую строку в словарь dict1': \"dict1[5]=['Саша', 9, 0, 11,9]\",\n",
    "                  'добавить две новых строки в словарь dict1':'dict1.update({7:[6,9,0,8,3],8:[6,8,0,8,1]})',\n",
    "                  'удалить строку из словаря dict1 двумя способами':\"del dict1[8], dict1.pop(7)\",\n",
    "                  'отразить все ключи словаря dict1, все значения, и все пары ключ-значения из словаря': 'dict1.keys()),dict1.values()),dict1.items()',\n",
    "                  'написать цикл с while и continue':'i = 0 while i < 10: if i == 5: break if i % 2 == 0: i += 1 continue print(i) i += 1',\n",
    "                  'сделать все слова words в верхнем и нижнем регистре':'[i.upper() for i in words],[i.lower() for i in words]'\n",
    "\n",
    "                  \n",
    "                 }  "
   ]
  },
  {
   "cell_type": "markdown",
   "id": "7a595093",
   "metadata": {},
   "source": [
    "### Реши задачу:"
   ]
  },
  {
   "cell_type": "code",
   "execution_count": 93,
   "id": "9a817c00",
   "metadata": {},
   "outputs": [
    {
     "data": {
      "text/plain": [
       "'посчитать сумму квадратов списка numbers одной строкой'"
      ]
     },
     "execution_count": 93,
     "metadata": {},
     "output_type": "execute_result"
    }
   ],
   "source": [
    "task=random.choice(list(tasks__to_create))\n",
    "task"
   ]
  },
  {
   "cell_type": "markdown",
   "id": "d3f11f79",
   "metadata": {},
   "source": [
    "### Моё решение:"
   ]
  },
  {
   "cell_type": "code",
   "execution_count": 96,
   "id": "5363dc96",
   "metadata": {},
   "outputs": [
    {
     "data": {
      "text/plain": [
       "[4, 5, 3, 2, 2, 5]"
      ]
     },
     "execution_count": 96,
     "metadata": {},
     "output_type": "execute_result"
    }
   ],
   "source": [
    "numbers"
   ]
  },
  {
   "cell_type": "code",
   "execution_count": 98,
   "id": "a5c7a931",
   "metadata": {},
   "outputs": [
    {
     "data": {
      "text/plain": [
       "83"
      ]
     },
     "execution_count": 98,
     "metadata": {},
     "output_type": "execute_result"
    }
   ],
   "source": [
    "sum([i**2 for i in numbers])"
   ]
  },
  {
   "cell_type": "markdown",
   "id": "5481e5a3",
   "metadata": {},
   "source": [
    "### Проверить решение:"
   ]
  },
  {
   "cell_type": "code",
   "execution_count": 99,
   "id": "2b03aec4",
   "metadata": {},
   "outputs": [
    {
     "data": {
      "text/plain": [
       "'sum([i**2 for i in numbers ])'"
      ]
     },
     "execution_count": 99,
     "metadata": {},
     "output_type": "execute_result"
    }
   ],
   "source": [
    "tasks__to_create[task]"
   ]
  },
  {
   "cell_type": "code",
   "execution_count": 100,
   "id": "9d9e77b3",
   "metadata": {},
   "outputs": [
    {
     "name": "stdout",
     "output_type": "stream",
     "text": [
      "Получилось решить задание?да\n"
     ]
    }
   ],
   "source": [
    "answer= input('Получилось решить задание?')\n",
    "diary.loc[len(diary)]=[date.today(),'задачи python',task,answer]"
   ]
  },
  {
   "cell_type": "code",
   "execution_count": 101,
   "id": "a6a695b3",
   "metadata": {},
   "outputs": [
    {
     "name": "stdout",
     "output_type": "stream",
     "text": [
      "Осталось решить 0\n"
     ]
    }
   ],
   "source": [
    "counter=counter-1\n",
    "print(f'Осталось решить {counter}')"
   ]
  },
  {
   "cell_type": "markdown",
   "id": "309e6407",
   "metadata": {},
   "source": [
    "### Результаты"
   ]
  },
  {
   "cell_type": "code",
   "execution_count": 102,
   "id": "2ca51e9c",
   "metadata": {},
   "outputs": [
    {
     "data": {
      "image/png": "[encoded data removed]",
      "text/plain": [
       "<Figure size 640x480 with 1 Axes>"
      ]
     },
     "metadata": {},
     "output_type": "display_data"
    }
   ],
   "source": [
    "type_of_task('задачи python')"
   ]
  },
  {
   "cell_type": "code",
   "execution_count": 461,
   "id": "ba989bd1",
   "metadata": {},
   "outputs": [],
   "source": [
    "df3=pd.DataFrame({'Name':['Нина','Света','Олег','Рома','Николай','Карина'],'weight':[120,50,70,180,175,159]})"
   ]
  },
  {
   "cell_type": "markdown",
   "id": "c51ebcfd",
   "metadata": {},
   "source": [
    "# 5. Работа с Data Frame"
   ]
  },
  {
   "cell_type": "code",
   "execution_count": 103,
   "id": "4edfa1c6",
   "metadata": {},
   "outputs": [],
   "source": [
    "counter=5"
   ]
  },
  {
   "cell_type": "code",
   "execution_count": 104,
   "id": "2e058735",
   "metadata": {},
   "outputs": [],
   "source": [
    "df=pd.DataFrame({'Name':['Natasha','Каte','Olya','Max'],'Age':[32,10,37,32]})\n",
    "df2=pd.DataFrame({'Name':['Нина','Света','Олег','Рома'],'Age':[12,1,3,73]})\n",
    "\n",
    "\n",
    "tasks_df={'создать датафрейм':\"pd.DataFrame({'A': ['1', '2', '3'],'B': ['10', '12', '5']}) или pd.DataFrame(data=[['ПЕтя','Вася']],columns=['name', 'last_name'])\",\n",
    "          \"составить базу данных из t1=[['мама', 'Наташа'],['папа', 'Максим'],['дочка', 'Катя']]col=['статус','имя']'}\":\"pd.DataFrame(data=t1, columns=['статус','имя','кличка'])\",\n",
    "          \"Добавить в df строку 'собака',4\":\"df.loc[len(df)]=['собака',4]\",\n",
    "          \"Добавить новый столбец в df возраст и в нем значение молодой\":\"df.loc[:,'возраст']='молодой' или df['age']='молодой'\",\n",
    "          \"Добавить в df пустой столбец 'hobby'\":\"df['hobby']=pd.NA\",\n",
    "         \"заменить в df имя Max на Maxim\":\"df.loc[df['Name']=='Max','Name']='Maxim'\",\n",
    "           'одной строкой добавить в df к имени Наташа столбец работа СДЭК':\"df.loc[df['Name']=='Natasha','job']='CDEK'\",\n",
    "           \"Создать из колонки Name и Age df списки и объединить их\":\"df['Name'].tolist()+list(df['Age'])\",\n",
    "         'Сменить в data тип данных в столбце Номер заказа':\"data['Номер заказа'].astype(int)\",\n",
    "         'Переименовать колонку Вес к оплате':\"data.rename(columns={'Вес к оплате, кг':'Вес'},inplace=True)\",\n",
    "         'найти количество дубликатов по номеру накладной':\"sum(data['Номер заказа'].duplicated())\",\n",
    "         'удалить дубликаты (номера заказов) data':\"data.drop_duplicates(subset=['Номер заказа'],inplace=True)\",\n",
    "         \"одну колонку data сделать в верхнем регистре, одну в нижнем\":\"data['Плательщик'].str.lower(), data['Описание вложения'].str.upper()\",\n",
    "         'сделать срез с 5 по 10 строку из data с и без loc':'data.loc[5:10],data[5:11]',\n",
    "         'отразить номер заказ с индексом 2':'data.loc[2,\"Номер заказа\"]',\n",
    "         \"Вывести строки, в которых описание вложения духи\":\"data[data['Описание вложения']=='духи'] или data.loc[data['Описание вложения']=='духи']\",\n",
    "         \"отразить строки где описание вложения духи и первичный приход Москва (Садовод) \":\"data.loc[(data['Первичный приход']=='Москва (Садовод)')&(data['Описание вложения']=='духи')]\",\n",
    "         'Посчитать сумму пустых значений по всем столбцам и по одному столбцу':\"data['Причина задержки'].isnull().sum()\",\n",
    "         'посчитать количество непустых значений по столбцам':'data.notnull().sum()',\n",
    "         \"Заменить пропущенные значения в столбце Причина задержки на нет инфо\":\"data['Причина задержки'].fillna('нет инфо', inplace=True)\",\n",
    "         'заменить химическое вещество на химия и лак для ногтей на косметика':\"data['Описание вложения'].replace({'химическое вещество':'химия','лак для ногтей':'косметика'},inplace=True)\",\n",
    "         'найти количество уникальных значений Описание вложения':\"len(data['Описание вложения'].unique())\",\n",
    "          'найти количество каждого наименования в  Описание вложения':\"data['Описание вложения'].value_counts()\",\n",
    "         'отобразить основные числовые характеристики столбца Вес':\"data['Вес к оплате, кг'].describe()\",\n",
    "         'Сменить тип данных в Дате заказа на дату':\"data_dates['Дата заказа'] = pd.to_datetime(data_dates['Дата заказа'], format='%d.%m.%Y')\",\n",
    "          'выделить время из столбца data_dates, где есть дата и время':\"data_dates['Время'] = pd.to_datetime(data_dates['Дата и время первого прихода на склад (в г.отправителе)'], format='%d.%m.%Y %H:%M').dt.time\",\n",
    "          'добавить в data_dates колонку с днем недели':\"data_dates['день недели']=pd.to_datetime(data_dates['Дата заказа']).dt.weekday\",\n",
    "          'объединить df и df2 друг на друга':'pd.concat([df,df2])',\n",
    "          'объединить data, data_dates по столбцу Номер заказа ':\"pd.merge(data, data_dates, on='Номер заказа')\",\n",
    "          'Составить сводную data по причинам задержки с количеством накладных по датам':\"data.pivot_table(index='Причина задержки',columns='Дата',values='Номер заказа',aggfunc='count')\",\n",
    "          'Составить сводную data по причинам задержки с суммой веса':\"data.pivot_table(index='Причина задержки',values='Вес к оплате, кг',aggfunc='sum')\",\n",
    "          \"Сгруппировать data по описанию вложения и посчитать сумму веса по убыванию\":\"data.groupby('Описание вложения')['Вес к оплате, кг'].sum().sort_values(ascending=False)\",\n",
    "                  'Сгруппировать в data по причине задержки и посчитать количество уникальных описаний вложения':\"data.groupby('Причина задержки')['Описание вложения'].nunique()\"\n",
    "          \n",
    "        \n",
    "         }"
   ]
  },
  {
   "cell_type": "code",
   "execution_count": 105,
   "id": "b689c1e1",
   "metadata": {
    "scrolled": true
   },
   "outputs": [
    {
     "data": {
      "text/html": [
       "<div>\n",
       "<style scoped>\n",
       "    .dataframe tbody tr th:only-of-type {\n",
       "        vertical-align: middle;\n",
       "    }\n",
       "\n",
       "    .dataframe tbody tr th {\n",
       "        vertical-align: top;\n",
       "    }\n",
       "\n",
       "    .dataframe thead th {\n",
       "        text-align: right;\n",
       "    }\n",
       "</style>\n",
       "<table border=\"1\" class=\"dataframe\">\n",
       "  <thead>\n",
       "    <tr style=\"text-align: right;\">\n",
       "      <th></th>\n",
       "      <th>Номер заказа</th>\n",
       "      <th>Причина задержки</th>\n",
       "      <th>Описание вложения</th>\n",
       "      <th>Плательщик</th>\n",
       "      <th>Город получателя</th>\n",
       "      <th>Первичный приход</th>\n",
       "      <th>ШК места</th>\n",
       "      <th>Вес к оплате, кг</th>\n",
       "      <th>Дата</th>\n",
       "      <th>Склад</th>\n",
       "    </tr>\n",
       "  </thead>\n",
       "  <tbody>\n",
       "    <tr>\n",
       "      <th>0</th>\n",
       "      <td>10045135803</td>\n",
       "      <td>Необходимо согласовать возврат.</td>\n",
       "      <td>бензин</td>\n",
       "      <td>\"АЛМИ ПЛЮС\"</td>\n",
       "      <td>Калининград, Калининградская область, Россия</td>\n",
       "      <td>Киров, городской округ Киров (ЖД Вокзал)</td>\n",
       "      <td>[ITM]000469565819</td>\n",
       "      <td>0.6</td>\n",
       "      <td>1.11</td>\n",
       "      <td>Мск</td>\n",
       "    </tr>\n",
       "    <tr>\n",
       "      <th>1</th>\n",
       "      <td>10045972849</td>\n",
       "      <td>Необходимо согласовать возврат.</td>\n",
       "      <td>бензин</td>\n",
       "      <td>Волков Андрей Евгеньевич</td>\n",
       "      <td>Екатеринбург, Свердловская область, Россия</td>\n",
       "      <td>Москва (На Минской, 14к1)</td>\n",
       "      <td>[ITM]000470498366</td>\n",
       "      <td>3.8</td>\n",
       "      <td>1.11</td>\n",
       "      <td>Мск</td>\n",
       "    </tr>\n",
       "  </tbody>\n",
       "</table>\n",
       "</div>"
      ],
      "text/plain": [
       "   Номер заказа                  Причина задержки Описание вложения  \\\n",
       "0   10045135803  Необходимо согласовать возврат.             бензин   \n",
       "1   10045972849  Необходимо согласовать возврат.             бензин   \n",
       "\n",
       "                 Плательщик                              Город получателя  \\\n",
       "0               \"АЛМИ ПЛЮС\"  Калининград, Калининградская область, Россия   \n",
       "1  Волков Андрей Евгеньевич    Екатеринбург, Свердловская область, Россия   \n",
       "\n",
       "                           Первичный приход           ШК места  \\\n",
       "0  Киров, городской округ Киров (ЖД Вокзал)  [ITM]000469565819   \n",
       "1                 Москва (На Минской, 14к1)  [ITM]000470498366   \n",
       "\n",
       "   Вес к оплате, кг  Дата Склад  \n",
       "0               0.6  1.11   Мск  \n",
       "1               3.8  1.11   Мск  "
      ]
     },
     "execution_count": 105,
     "metadata": {},
     "output_type": "execute_result"
    }
   ],
   "source": [
    "data.head(2)"
   ]
  },
  {
   "cell_type": "markdown",
   "id": "94bd6135",
   "metadata": {},
   "source": [
    "### Задача:"
   ]
  },
  {
   "cell_type": "code",
   "execution_count": 160,
   "id": "dab7acf2",
   "metadata": {},
   "outputs": [
    {
     "data": {
      "text/plain": [
       "'Составить сводную data по причинам задержки с суммой веса'"
      ]
     },
     "execution_count": 160,
     "metadata": {},
     "output_type": "execute_result"
    }
   ],
   "source": [
    "task=random.choice(list(tasks_df))\n",
    "task"
   ]
  },
  {
   "cell_type": "markdown",
   "id": "8abc78ca",
   "metadata": {},
   "source": [
    "### Моё решение:"
   ]
  },
  {
   "cell_type": "code",
   "execution_count": 161,
   "id": "c5bc829f",
   "metadata": {},
   "outputs": [
    {
     "data": {
      "text/html": [
       "<div>\n",
       "<style scoped>\n",
       "    .dataframe tbody tr th:only-of-type {\n",
       "        vertical-align: middle;\n",
       "    }\n",
       "\n",
       "    .dataframe tbody tr th {\n",
       "        vertical-align: top;\n",
       "    }\n",
       "\n",
       "    .dataframe thead th {\n",
       "        text-align: right;\n",
       "    }\n",
       "</style>\n",
       "<table border=\"1\" class=\"dataframe\">\n",
       "  <thead>\n",
       "    <tr style=\"text-align: right;\">\n",
       "      <th></th>\n",
       "      <th>Вес к оплате, кг</th>\n",
       "    </tr>\n",
       "    <tr>\n",
       "      <th>Причина задержки</th>\n",
       "      <th></th>\n",
       "    </tr>\n",
       "  </thead>\n",
       "  <tbody>\n",
       "    <tr>\n",
       "      <th>0</th>\n",
       "      <td>3747.68</td>\n",
       "    </tr>\n",
       "    <tr>\n",
       "      <th></th>\n",
       "      <td>2092.68</td>\n",
       "    </tr>\n",
       "    <tr>\n",
       "      <th>9 класс опасности.</th>\n",
       "      <td>7363.92</td>\n",
       "    </tr>\n",
       "    <tr>\n",
       "      <th>9 класс опасности.</th>\n",
       "      <td>12.74</td>\n",
       "    </tr>\n",
       "    <tr>\n",
       "      <th>В Мирный наз</th>\n",
       "      <td>0.60</td>\n",
       "    </tr>\n",
       "    <tr>\n",
       "      <th>Возможна отправка только наземным тарифом.</th>\n",
       "      <td>13.74</td>\n",
       "    </tr>\n",
       "    <tr>\n",
       "      <th>Возможна только наземная отправка</th>\n",
       "      <td>50.04</td>\n",
       "    </tr>\n",
       "    <tr>\n",
       "      <th>Возможна только наземная отправка.</th>\n",
       "      <td>1896.69</td>\n",
       "    </tr>\n",
       "    <tr>\n",
       "      <th>Необходим паспорт безопасности MSDS.</th>\n",
       "      <td>8028.59</td>\n",
       "    </tr>\n",
       "    <tr>\n",
       "      <th>Необходимо согласовать возврат.</th>\n",
       "      <td>26.25</td>\n",
       "    </tr>\n",
       "    <tr>\n",
       "      <th>Необходимо согласовать самозабор со склада либо утилизацию.</th>\n",
       "      <td>333.44</td>\n",
       "    </tr>\n",
       "    <tr>\n",
       "      <th>Нужна надбавка за ОГ или наземка</th>\n",
       "      <td>5.89</td>\n",
       "    </tr>\n",
       "    <tr>\n",
       "      <th>Отправка Авиа запрещена .</th>\n",
       "      <td>15.35</td>\n",
       "    </tr>\n",
       "    <tr>\n",
       "      <th>Отправка авиа запрещена.</th>\n",
       "      <td>11493.91</td>\n",
       "    </tr>\n",
       "    <tr>\n",
       "      <th>Отправка парафиновых свечей возможна только наземным тарифом. Свечи из натурального воска с сертификатом можно отправить авиа.</th>\n",
       "      <td>604.69</td>\n",
       "    </tr>\n",
       "    <tr>\n",
       "      <th>Паспорт приложен не на все веществва</th>\n",
       "      <td>6.15</td>\n",
       "    </tr>\n",
       "  </tbody>\n",
       "</table>\n",
       "</div>"
      ],
      "text/plain": [
       "                                                    Вес к оплате, кг\n",
       "Причина задержки                                                    \n",
       "0                                                            3747.68\n",
       "                                                             2092.68\n",
       "9 класс опасности.                                           7363.92\n",
       "9 класс опасности.                                             12.74\n",
       "В Мирный наз                                                    0.60\n",
       "Возможна отправка только наземным тарифом.                     13.74\n",
       "Возможна только наземная отправка                              50.04\n",
       "Возможна только наземная отправка.                           1896.69\n",
       "Необходим паспорт безопасности MSDS.                         8028.59\n",
       "Необходимо согласовать возврат.                                26.25\n",
       "Необходимо согласовать самозабор со склада либо...            333.44\n",
       "Нужна надбавка за ОГ или наземка                                5.89\n",
       "Отправка Авиа запрещена .                                      15.35\n",
       "Отправка авиа запрещена.                                    11493.91\n",
       "Отправка парафиновых свечей возможна только наз...            604.69\n",
       "Паспорт приложен не на все веществва                            6.15"
      ]
     },
     "execution_count": 161,
     "metadata": {},
     "output_type": "execute_result"
    }
   ],
   "source": [
    "data.pivot_table(index='Причина задержки',values='Вес к оплате, кг',aggfunc='sum')"
   ]
  },
  {
   "cell_type": "markdown",
   "id": "e995e9c0",
   "metadata": {},
   "source": [
    "### Проверить решение:"
   ]
  },
  {
   "cell_type": "code",
   "execution_count": 162,
   "id": "c1da05ea",
   "metadata": {},
   "outputs": [
    {
     "data": {
      "text/plain": [
       "\"data.pivot_table(index='Причина задержки',values='Вес к оплате, кг',aggfunc='sum')\""
      ]
     },
     "execution_count": 162,
     "metadata": {},
     "output_type": "execute_result"
    }
   ],
   "source": [
    "tasks_df[task]"
   ]
  },
  {
   "cell_type": "code",
   "execution_count": 163,
   "id": "4fc623ae",
   "metadata": {},
   "outputs": [
    {
     "name": "stdout",
     "output_type": "stream",
     "text": [
      "Получилось решить задание?да\n"
     ]
    }
   ],
   "source": [
    "answer= input('Получилось решить задание?')\n",
    "diary.loc[len(diary)]=[date.today(),'работа с df',task,answer]"
   ]
  },
  {
   "cell_type": "code",
   "execution_count": 164,
   "id": "4021f117",
   "metadata": {},
   "outputs": [
    {
     "name": "stdout",
     "output_type": "stream",
     "text": [
      "Осталось решить 0\n"
     ]
    }
   ],
   "source": [
    "counter=counter-1\n",
    "print(f'Осталось решить {counter}')"
   ]
  },
  {
   "cell_type": "markdown",
   "id": "f11f7241",
   "metadata": {},
   "source": [
    "### Результаты"
   ]
  },
  {
   "cell_type": "code",
   "execution_count": 165,
   "id": "b060e6c2",
   "metadata": {},
   "outputs": [
    {
     "data": {
      "image/png": "[encoded data removed]",
      "text/plain": [
       "<Figure size 640x480 with 1 Axes>"
      ]
     },
     "metadata": {},
     "output_type": "display_data"
    }
   ],
   "source": [
    "type_of_task('работа с df')\n"
   ]
  },
  {
   "cell_type": "markdown",
   "id": "6252947d",
   "metadata": {},
   "source": [
    "# 6  Визуализация"
   ]
  },
  {
   "cell_type": "code",
   "execution_count": 166,
   "id": "e5fa8b75",
   "metadata": {},
   "outputs": [],
   "source": [
    "counter=3"
   ]
  },
  {
   "cell_type": "code",
   "execution_count": 167,
   "id": "771a538f",
   "metadata": {},
   "outputs": [],
   "source": [
    "x = [1, 2, 3, 4, 5]\n",
    "y = [25, 32, 34, 20, 25]\n",
    "z=['Январь', 'Февраль', 'Март', 'Апрель', 'Май']\n",
    "tasks_visual={'Вывести столбчатую диаграмму по количеству причин задержки по убыванию':\"data['Причина задержки'].value_counts().sort_values(ascending=False).plot.bar()\",\n",
    "             'Вывести горизонтальную столбчатую диаграмму по количеству причин задержки':\"data['Причина задержки'].value_counts().sort_values(ascending=True).plot.barh()\",\n",
    "              'Вывести круговую диаграмму по причинам задержки':\"data['Причина задержки'].value_counts().plot(kind='pie')\",\n",
    "              \"Построить гистограмму по весу для по весу менее 30 кг с размером корзины 20\":\"data[data['Вес к оплате, кг']<30]['Вес к оплате, кг'].hist(bins=20)\",\n",
    "              'Построить диаграмму размаха по весу':\"data.boxplot(column='Вес к оплате, кг')\",\n",
    "              'С помощью matplotlib построить график по точкам x y, подписать оси и сам график':\"plt.plot(x,y) plt.xlabel('Ось х') plt.ylabel('Ось y') plt.title('Первый график')plt.show()\",\n",
    "              'С помощью matplotlib построить график по точкам x y, красного цвета, с точками \"o\" 10 размера':\"plt.plot(x,y,color='red', marker='o', markersize=10\",\n",
    "              'С помощью matplotlib построить диаграмму рассеивания по точкам x y':'plt.scatter(x, y)',\n",
    "              'С помощью matplotlib построить столбчатую диаграмму  по точкам z y с легендой Прибыль и названиями осей':\"plt.bar(z, y, label='Прибыль') plt.ylabel('рубли')plt.xlabel('месяц') plt.legend()\",\n",
    "              'С помощью matplotlib построить круговую диаграмму  по точкам z y с указанием %':\"plt.pie(y, labels=z, autopct='%1.1f%%') plt.show()\"\n",
    "\n",
    "}"
   ]
  },
  {
   "cell_type": "code",
   "execution_count": 168,
   "id": "217383d3",
   "metadata": {
    "scrolled": true
   },
   "outputs": [
    {
     "data": {
      "text/html": [
       "<div>\n",
       "<style scoped>\n",
       "    .dataframe tbody tr th:only-of-type {\n",
       "        vertical-align: middle;\n",
       "    }\n",
       "\n",
       "    .dataframe tbody tr th {\n",
       "        vertical-align: top;\n",
       "    }\n",
       "\n",
       "    .dataframe thead th {\n",
       "        text-align: right;\n",
       "    }\n",
       "</style>\n",
       "<table border=\"1\" class=\"dataframe\">\n",
       "  <thead>\n",
       "    <tr style=\"text-align: right;\">\n",
       "      <th></th>\n",
       "      <th>Номер заказа</th>\n",
       "      <th>Причина задержки</th>\n",
       "      <th>Описание вложения</th>\n",
       "      <th>Плательщик</th>\n",
       "      <th>Город получателя</th>\n",
       "      <th>Первичный приход</th>\n",
       "      <th>ШК места</th>\n",
       "      <th>Вес к оплате, кг</th>\n",
       "      <th>Дата</th>\n",
       "      <th>Склад</th>\n",
       "    </tr>\n",
       "  </thead>\n",
       "  <tbody>\n",
       "    <tr>\n",
       "      <th>0</th>\n",
       "      <td>10045135803</td>\n",
       "      <td>Необходимо согласовать возврат.</td>\n",
       "      <td>химимя</td>\n",
       "      <td>\"АЛМИ ПЛЮС\"</td>\n",
       "      <td>Калининград, Калининградская область, Россия</td>\n",
       "      <td>Киров, городской округ Киров (ЖД Вокзал)</td>\n",
       "      <td>[ITM]000469565819</td>\n",
       "      <td>0.6</td>\n",
       "      <td>1.11</td>\n",
       "      <td>Мск</td>\n",
       "    </tr>\n",
       "    <tr>\n",
       "      <th>1</th>\n",
       "      <td>10045972849</td>\n",
       "      <td>Необходимо согласовать возврат.</td>\n",
       "      <td>химимя</td>\n",
       "      <td>Волков Андрей Евгеньевич</td>\n",
       "      <td>Екатеринбург, Свердловская область, Россия</td>\n",
       "      <td>Москва (На Минской, 14к1)</td>\n",
       "      <td>[ITM]000470498366</td>\n",
       "      <td>3.8</td>\n",
       "      <td>1.11</td>\n",
       "      <td>Мск</td>\n",
       "    </tr>\n",
       "  </tbody>\n",
       "</table>\n",
       "</div>"
      ],
      "text/plain": [
       "   Номер заказа                  Причина задержки Описание вложения  \\\n",
       "0   10045135803  Необходимо согласовать возврат.             химимя   \n",
       "1   10045972849  Необходимо согласовать возврат.             химимя   \n",
       "\n",
       "                 Плательщик                              Город получателя  \\\n",
       "0               \"АЛМИ ПЛЮС\"  Калининград, Калининградская область, Россия   \n",
       "1  Волков Андрей Евгеньевич    Екатеринбург, Свердловская область, Россия   \n",
       "\n",
       "                           Первичный приход           ШК места  \\\n",
       "0  Киров, городской округ Киров (ЖД Вокзал)  [ITM]000469565819   \n",
       "1                 Москва (На Минской, 14к1)  [ITM]000470498366   \n",
       "\n",
       "   Вес к оплате, кг  Дата Склад  \n",
       "0               0.6  1.11   Мск  \n",
       "1               3.8  1.11   Мск  "
      ]
     },
     "execution_count": 168,
     "metadata": {},
     "output_type": "execute_result"
    }
   ],
   "source": [
    "data.head(2)"
   ]
  },
  {
   "cell_type": "markdown",
   "id": "f5f3acc2",
   "metadata": {},
   "source": [
    "### Задача:"
   ]
  },
  {
   "cell_type": "code",
   "execution_count": 189,
   "id": "e6f478f3",
   "metadata": {},
   "outputs": [
    {
     "data": {
      "text/plain": [
       "'С помощью matplotlib построить график по точкам x y, красного цвета, с точками \"o\" 10 размера'"
      ]
     },
     "execution_count": 189,
     "metadata": {},
     "output_type": "execute_result"
    }
   ],
   "source": [
    "task=random.choice(list(tasks_visual))\n",
    "task"
   ]
  },
  {
   "cell_type": "markdown",
   "id": "38c83ca2",
   "metadata": {},
   "source": [
    "### Моё решение:"
   ]
  },
  {
   "cell_type": "code",
   "execution_count": 192,
   "id": "78fb3567",
   "metadata": {},
   "outputs": [
    {
     "data": {
      "text/plain": [
       "[<matplotlib.lines.Line2D at 0x223540a7650>]"
      ]
     },
     "execution_count": 192,
     "metadata": {},
     "output_type": "execute_result"
    },
    {
     "data": {
      "image/png": "[encoded data removed]",
      "text/plain": [
       "<Figure size 640x480 with 1 Axes>"
      ]
     },
     "metadata": {},
     "output_type": "display_data"
    }
   ],
   "source": [
    "plt.plot(x,y,color='red',marker='o',markersize=10)"
   ]
  },
  {
   "cell_type": "markdown",
   "id": "bfdd3e34",
   "metadata": {},
   "source": [
    "### Проверить решение"
   ]
  },
  {
   "cell_type": "code",
   "execution_count": 193,
   "id": "a1da4bab",
   "metadata": {},
   "outputs": [
    {
     "data": {
      "text/plain": [
       "\"plt.plot(x,y,color='red', marker='o', markersize=10\""
      ]
     },
     "execution_count": 193,
     "metadata": {},
     "output_type": "execute_result"
    }
   ],
   "source": [
    "tasks_visual[task]"
   ]
  },
  {
   "cell_type": "code",
   "execution_count": 194,
   "id": "40e78f26",
   "metadata": {},
   "outputs": [
    {
     "name": "stdout",
     "output_type": "stream",
     "text": [
      "Получилось решить задание?да\n"
     ]
    }
   ],
   "source": [
    "answer= input('Получилось решить задание?')\n",
    "diary.loc[len(diary)]=[date.today(),'работа визуализацией',task,answer]"
   ]
  },
  {
   "cell_type": "code",
   "execution_count": 195,
   "id": "9a09cd56",
   "metadata": {},
   "outputs": [
    {
     "name": "stdout",
     "output_type": "stream",
     "text": [
      "Осталось решить 0\n"
     ]
    }
   ],
   "source": [
    "counter=counter-1\n",
    "print(f'Осталось решить {counter}')"
   ]
  },
  {
   "cell_type": "markdown",
   "id": "c6a6c7ca",
   "metadata": {},
   "source": [
    "## Результаты"
   ]
  },
  {
   "cell_type": "code",
   "execution_count": 196,
   "id": "71f8eb64",
   "metadata": {},
   "outputs": [
    {
     "data": {
      "image/png": "[encoded data removed]",
      "text/plain": [
       "<Figure size 640x480 with 1 Axes>"
      ]
     },
     "metadata": {},
     "output_type": "display_data"
    }
   ],
   "source": [
    "type_of_task('работа визуализацией')"
   ]
  },
  {
   "cell_type": "markdown",
   "id": "910a8c35",
   "metadata": {},
   "source": [
    "# 7 SQL"
   ]
  },
  {
   "cell_type": "code",
   "execution_count": 197,
   "id": "2447fd7d",
   "metadata": {},
   "outputs": [],
   "source": [
    "import sqlite3"
   ]
  },
  {
   "cell_type": "code",
   "execution_count": 198,
   "id": "78d27498",
   "metadata": {},
   "outputs": [],
   "source": [
    "cnn=sqlite3.connect('jupyter_sql_tutorial.db')\n",
    "%load_ext sql\n",
    "%sql sqlite:///jupyter_sql_tutorial.db"
   ]
  },
  {
   "cell_type": "markdown",
   "id": "f983e56d",
   "metadata": {},
   "source": [
    "%%sql  - пишется в начале каждого запроса"
   ]
  },
  {
   "cell_type": "code",
   "execution_count": 199,
   "id": "e55d5aa7",
   "metadata": {},
   "outputs": [],
   "source": [
    "#data_dates=pd.read_csv('C:/Users/Natalya/Desktop/Учёба/Отчёт с датами.csv',delimiter=';')"
   ]
  },
  {
   "cell_type": "code",
   "execution_count": 200,
   "id": "63ff112d",
   "metadata": {},
   "outputs": [],
   "source": [
    "#data_dates.to_sql('df_sql_dates',cnn)\n",
    "counter=3"
   ]
  },
  {
   "cell_type": "code",
   "execution_count": 201,
   "id": "4a1deaa1",
   "metadata": {},
   "outputs": [],
   "source": [
    "tasks_sql={\n",
    "          \n",
    "           'отразить строки из df_sql, где во вложении духи или встречается слово лак ':\"select * from df_sql where [Описание вложения]='магнит' or [Описание вложения] like '%лак%'\",\n",
    "           \"Вывести 10 самых непопулярных причин задержки\":\"select [Причина задержки], count(*) from df_sqlgroup by [Причина задержки]order by count(*) limit 10\",\n",
    "           'Вывести список причин задержки по длине строки по убыванию':\"select distinct([Причина задержки]),length([Причина задержки]) from df_sql order by length([Причина задержки]) desc\",\n",
    "           \"Вывести накладные где причины задержки 'запрещенный','в рк','ог/зг' \":\"select * from df__sql where ([Причина задержки]) in ('запрещенный','в рк','ог/зг')\",\n",
    "           'Вывести из df__sql строки где вес от 15 до 20 кг':\"SELECT * FROM df__sql WHERE [Вес к оплате, кг] BETWEEN 15 AND 20\",\n",
    "           'отобразить текущее время':'SELECT CURRENT_TIME',\n",
    "           'отобразить текущую дату':'SELECT CURRENT_DATE',\n",
    "           'отобразить текущее время':'SELECT CURRENT_TIME',\n",
    "           'отобразить текущее время и дату':'SELECT CURRENT_TIMESTAMP',\n",
    "           'отобразить накладные из df_sql где причина задержки пустая':'SELECT * from df_sql where [Причина задержки] is null',\n",
    "           'с помощью case разделить вес на 2 группы':\"select *, case when [Вес к оплате, кг]<1 then 'Меньше кг' when [Вес к оплате, кг]>=1 then 'Больше кг' END from df__sql\",\n",
    "           'модуль числа -3':'abs(-3)',\n",
    "           'округляет в меньшую сторону 4.74':'SELECT floor(4.74)',\n",
    "           'округляет в большую сторону':'SELECT CEILING(2.32)',\n",
    "           'округляет до ближайшего целого':'SELECT ROUND(8.76)',\n",
    "           'можно задать сколько цифр после запятой оставить':'SELECT ROUND(21.5595743, 2)',\n",
    "           'возвести в квадрат':'SELECT POWER(3, 2)',\n",
    "           'извлечь корень':'SELECT SQRT(ABS(16))',\n",
    "            'соединить df__sql и df_sql_dates левым джойном':'SELECT count(*) from df__sql as df left join df_sql_dates as dfd on df.[Номер заказа]=dfd.[Номер заказа]',\n",
    "            'соединить df__sql и df_sql_dates левым джойном':'SELECT * from df__sql as df left join df_sql_dates as dfd on df.[Номер заказа]=dfd.[Номер заказа]',\n",
    "            'соединить df__sql и df_sql_dates правым джойном':'SELECT count(*) from df__sql as df right join df_sql_dates as dfd on df.[Номер заказа]=dfd.[Номер заказа]',\n",
    "           'соединить df__sql и df_sql_dates что полностью входили данные из двух таблиц':'SELECT count(*) from df__sql as df full join df_sql_dates as dfd on df.[Номер заказа]=dfd.[Номер заказа]',\n",
    "           \"вывести из df__sql с 4 по 8 строку\":'SELECT * from df__sql limit 5 OFFSET 3',\n",
    "           'вывести все колонки из table_for_sql и заменить тип данных age на текст':'SELECT *, cast(age as text) from table_for_sql',\n",
    "           'найти в df_sql по колонке вес сумму, среднее, количеств, минимальное и максимальное значение':'select sum([Вес к оплате, кг]),count([Вес к оплате, кг]),avg([Вес к оплате, кг]),min([Вес к оплате, кг]),max([Вес к оплате, кг]) from df_sql',\n",
    "           'найти в df_sql количество причин задержки и уникальное количество причин задержки':'select count([Причина задержки]),count(distinct[Причина задержки]) from  df_sql',\n",
    "           'В df_sql сгруппировать данные по причине задержки, узнать количество уникальных описаний вложений и округленную сумму веса':'select [Причина задержки], count(distinct([Описание вложения])),round(sum([Вес к оплате, кг])) from  df_sql group by [Причина задержки]',\n",
    "           'В df_sql группировать по причине задержки и отразить те, где количество уникальных описаний вложения менее 3':'select [Причина задержки], count(distinct([Описание вложения]))from  df_sql group by [Причина задержки] having count(distinct([Описание вложения]))<3',\n",
    "            'заменить в df__sql в описании вложения бензин на химию ':\"SELECT REPLACE([Описание вложения],'бензин','химия') from df__sql \",\n",
    "           \"Вывести слово в нижнем и в верхнем регистре (jupiter не сработает)\":\"SELECT UPPER('привет'),LOWER('привет')\",\n",
    "           'Вывести df__sql и добавить столбик, где общее количество накладных':\"select *, count('Номер заказа')over() from df__sql \",\n",
    "           'Вывести df__sql и добавить столбик, где общее указан максимальный вес по наименованиям описания вложения':\"select *, max([Вес к оплате, кг])over(partition by [Описание вложения] ) from df__sql \",\n",
    "           'Проранжировать строки по убыванию веса':\"select *, row_number()over(order by[Вес к оплате, кг] desc) from df__sql\",\n",
    "           'Проранжировать строки, сгруппировав по описанию вложения':\"select *, row_number()over( partition by [Описание вложения] ) from df__sql\",\n",
    "            'Проранжировать по [Описание вложения] с результатом к примеру 1222557':'select *, rank()over( order by [Описание вложения] ) from df__sql',\n",
    "           'Проранжировать по [Описание вложения] с результатом к примеру 1222334':'select *, DENSE_RANK()over( order by [Описание вложения] ) from df__sql',\n",
    "           'С помощью оконной функции добавить колонку с проранжированным весом разделенным на 10 \"корзин\"':'select *, NTILE(10)over( order by [Вес к оплате, кг] ) from df__sql',\n",
    "          'Найти сумму веса с накоплением':'select *, sum([Вес к оплате, кг])over( order by [Номер заказа] ) from df__sql',\n",
    "           'Найти сумму веса с накоплением в разрезе каждого описания вложения':'select *, sum([Вес к оплате, кг])over(partition by [Описание вложения] order by [Номер заказа]) from df__sql',\n",
    "           'отразить из df_sql_dates Дата и время первого прихода на склад (в г.отправителе) и столбик с предыдущей записью даты и времени':'select [Номер заказа],[Дата и время первого прихода на склад (в г.отправителе)], lag([Дата и время первого прихода на склад (в г.отправителе)])over(order by [Дата и время первого прихода на склад (в г.отправителе)])',\n",
    "            'отразить из df_sql_dates Дата и время первого прихода на склад (в г.отправителе) и столбик с следущей записью даты и времени':'select [Номер заказа],[Дата и время первого прихода на склад (в г.отправителе)], lead([Дата и время первого прихода на склад (в г.отправителе)])over(order by [Дата и время первого прихода на склад (в г.отправителе)])',\n",
    "           'отразить из df_sql_dates Дата и время первого прихода на склад (в г.отправителе) и столбик с предыдущей записью даты и времени с шагом 3 и фразой нет инфо вместо None':'select [Номер заказа],[Дата и время первого прихода на склад (в г.отправителе)], lag([Дата и время первого прихода на склад (в г.отправителе)],3)over(order by [Дата и время первого прихода на склад (в г.отправителе)]) from df_sql_dates'\n",
    "\n",
    "           \n",
    "          \n",
    "          }\n",
    "\n"
   ]
  },
  {
   "cell_type": "markdown",
   "id": "5410a744",
   "metadata": {},
   "source": [
    "### Задача:"
   ]
  },
  {
   "cell_type": "code",
   "execution_count": 221,
   "id": "b031f039",
   "metadata": {},
   "outputs": [
    {
     "data": {
      "text/plain": [
       "'Вывести 10 самых непопулярных причин задержки'"
      ]
     },
     "execution_count": 221,
     "metadata": {},
     "output_type": "execute_result"
    }
   ],
   "source": [
    "task=random.choice(list(tasks_sql))\n",
    "task"
   ]
  },
  {
   "cell_type": "markdown",
   "id": "bfbd31e2",
   "metadata": {},
   "source": [
    "### Моё решение:"
   ]
  },
  {
   "cell_type": "code",
   "execution_count": 224,
   "id": "8e17a0ed",
   "metadata": {},
   "outputs": [
    {
     "name": "stdout",
     "output_type": "stream",
     "text": [
      " * sqlite:///jupyter_sql_tutorial.db\n",
      "Done.\n"
     ]
    },
    {
     "data": {
      "text/html": [
       "<table>\n",
       "    <thead>\n",
       "        <tr>\n",
       "            <th>Причина задержки</th>\n",
       "            <th>count([Номер накладной])</th>\n",
       "        </tr>\n",
       "    </thead>\n",
       "    <tbody>\n",
       "        <tr>\n",
       "            <td>3г</td>\n",
       "            <td>1</td>\n",
       "        </tr>\n",
       "        <tr>\n",
       "            <td>в рк</td>\n",
       "            <td>1</td>\n",
       "        </tr>\n",
       "        <tr>\n",
       "            <td>нужна переупаковка</td>\n",
       "            <td>1</td>\n",
       "        </tr>\n",
       "        <tr>\n",
       "            <td>отправка авиа и наземно запрещена возможен самозабор с пвз москва юг либо утилизация</td>\n",
       "            <td>1</td>\n",
       "        </tr>\n",
       "        <tr>\n",
       "            <td>переупаковка</td>\n",
       "            <td>1</td>\n",
       "        </tr>\n",
       "        <tr>\n",
       "            <td>возможна отправка только наземным тарифом</td>\n",
       "            <td>2</td>\n",
       "        </tr>\n",
       "        <tr>\n",
       "            <td>ог/зг</td>\n",
       "            <td>2</td>\n",
       "        </tr>\n",
       "        <tr>\n",
       "            <td>запрещенный</td>\n",
       "            <td>3</td>\n",
       "        </tr>\n",
       "        <tr>\n",
       "            <td>необходимо согласовать возврат</td>\n",
       "            <td>5</td>\n",
       "        </tr>\n",
       "        <tr>\n",
       "            <td>необходимо согласовать самозабор со склада либо утилизацию</td>\n",
       "            <td>20</td>\n",
       "        </tr>\n",
       "    </tbody>\n",
       "</table>"
      ],
      "text/plain": [
       "[('3г', 1),\n",
       " ('в рк', 1),\n",
       " ('нужна переупаковка', 1),\n",
       " ('отправка авиа и наземно запрещена возможен самозабор с пвз москва юг либо утилизация', 1),\n",
       " ('переупаковка', 1),\n",
       " ('возможна отправка только наземным тарифом', 2),\n",
       " ('ог/зг', 2),\n",
       " ('запрещенный', 3),\n",
       " ('необходимо согласовать возврат', 5),\n",
       " ('необходимо согласовать самозабор со склада либо утилизацию', 20)]"
      ]
     },
     "execution_count": 224,
     "metadata": {},
     "output_type": "execute_result"
    }
   ],
   "source": [
    "%%sql \n",
    "\n",
    "select [Причина задержки],count([Номер накладной])\n",
    "from df_sql\n",
    "group by [Причина задержки]\n",
    "order by count([Номер накладной])\n",
    "limit 10\n"
   ]
  },
  {
   "cell_type": "markdown",
   "id": "6447f7c7",
   "metadata": {},
   "source": [
    "### Проверить решение:"
   ]
  },
  {
   "cell_type": "code",
   "execution_count": 225,
   "id": "8c6d64a8",
   "metadata": {},
   "outputs": [
    {
     "data": {
      "text/plain": [
       "'select [Причина задержки], count(*) from df_sqlgroup by [Причина задержки]order by count(*) limit 10'"
      ]
     },
     "execution_count": 225,
     "metadata": {},
     "output_type": "execute_result"
    }
   ],
   "source": [
    "tasks_sql[task]"
   ]
  },
  {
   "cell_type": "code",
   "execution_count": 226,
   "id": "f55ce331",
   "metadata": {},
   "outputs": [
    {
     "name": "stdout",
     "output_type": "stream",
     "text": [
      "Получилось решить задание?да\n"
     ]
    }
   ],
   "source": [
    "answer= input('Получилось решить задание?')\n",
    "diary.loc[len(diary)]=[date.today(),'работа с SQL',task,answer]"
   ]
  },
  {
   "cell_type": "code",
   "execution_count": 227,
   "id": "3c1ed2b8",
   "metadata": {},
   "outputs": [
    {
     "name": "stdout",
     "output_type": "stream",
     "text": [
      "Осталось решить 0\n"
     ]
    }
   ],
   "source": [
    "counter=counter-1\n",
    "print(f'Осталось решить {counter}')"
   ]
  },
  {
   "cell_type": "markdown",
   "id": "1720647c",
   "metadata": {},
   "source": [
    "## Результаты"
   ]
  },
  {
   "cell_type": "code",
   "execution_count": 228,
   "id": "d65f0998",
   "metadata": {},
   "outputs": [
    {
     "data": {
      "image/png": "[encoded data removed]",
      "text/plain": [
       "<Figure size 640x480 with 1 Axes>"
      ]
     },
     "metadata": {},
     "output_type": "display_data"
    }
   ],
   "source": [
    "type_of_task('работа с SQL')"
   ]
  },
  {
   "cell_type": "markdown",
   "id": "a77d0669",
   "metadata": {},
   "source": [
    "# 8 SQL DDL команды\n",
    "DDL (Data Definition Language) Язык определения данных- это язык, используемый в SQL для создания, изменения и удаления объектов базы данных. Основные команды DDL включают CREATE, ALTER, и DROP. Они служат для создания новых таблиц, изменения структуры уже существующих таблиц и удаления ненужных объектов"
   ]
  },
  {
   "cell_type": "code",
   "execution_count": 229,
   "id": "94923436",
   "metadata": {},
   "outputs": [],
   "source": [
    "counter=3"
   ]
  },
  {
   "cell_type": "code",
   "execution_count": 230,
   "id": "33f030c5",
   "metadata": {},
   "outputs": [],
   "source": [
    "\n",
    "tasks_ddl={'создать таблицу id первичным ключом, датой в формате дата, имя в формате varchar и возраст и потом удалить таблицу':'CREATE table friends (friends_id int PRIMARY KEY, date_created date, first_name varchar(),  age int)',\n",
    "          'изменить в таблице table_for_sql в столбце Возраст тип данных':'ALTER TABLE table_for_sql ALTER COLUMN age TYPE text (в джупитер ноутбук код не работает)',\n",
    "           'Переименовать колонку таблицы table_for_sql':'ALTER TABLE table_for_sql RENAME name to NAME',\n",
    "           'Создать и удалить таблицу':'CREATE table friendsss (id) DROP table friendsss',\n",
    "           'Добавить и удалить столбец  в table_for_sql':'ALTER TABLE table_for_sql ADD COLUMN статус VARCHAR  ALTER TABLE table_for_sql DROP COLUMN',\n",
    "           'Добавить и удалить две строки в table_for_sql':\"INSERT INTO table_for_sql (id,NAME,age) VALUES(4,'Джесси',3),(5,'Оля',37)  и DELETE FROM table_for_sql WHERE NAME in ('Джесси','Оля')\",\n",
    "           'Изменить в table_for_sql возраст у Наташи на 33':\"UPDATE table_for_sql SET age=33 WHERE NAME='Наташа'\"\n",
    "           \n",
    " }\n"
   ]
  },
  {
   "cell_type": "code",
   "execution_count": 231,
   "id": "ecde6a3c",
   "metadata": {},
   "outputs": [
    {
     "name": "stdout",
     "output_type": "stream",
     "text": [
      " * sqlite:///jupyter_sql_tutorial.db\n",
      "Done.\n"
     ]
    },
    {
     "data": {
      "text/html": [
       "<table>\n",
       "    <thead>\n",
       "        <tr>\n",
       "            <th>id</th>\n",
       "            <th>name</th>\n",
       "            <th>Age</th>\n",
       "            <th>st</th>\n",
       "        </tr>\n",
       "    </thead>\n",
       "    <tbody>\n",
       "        <tr>\n",
       "            <td>1</td>\n",
       "            <td>Наташа</td>\n",
       "            <td>33</td>\n",
       "            <td>None</td>\n",
       "        </tr>\n",
       "        <tr>\n",
       "            <td>2</td>\n",
       "            <td>Максим</td>\n",
       "            <td>32</td>\n",
       "            <td>None</td>\n",
       "        </tr>\n",
       "        <tr>\n",
       "            <td>3</td>\n",
       "            <td>Катя</td>\n",
       "            <td>10</td>\n",
       "            <td>None</td>\n",
       "        </tr>\n",
       "    </tbody>\n",
       "</table>"
      ],
      "text/plain": [
       "[(1, 'Наташа', 33, None), (2, 'Максим', 32, None), (3, 'Катя', 10, None)]"
      ]
     },
     "execution_count": 231,
     "metadata": {},
     "output_type": "execute_result"
    }
   ],
   "source": [
    "%%sql \n",
    "select * from table_for_sql"
   ]
  },
  {
   "cell_type": "markdown",
   "id": "596b6774",
   "metadata": {},
   "source": [
    "### Задача"
   ]
  },
  {
   "cell_type": "code",
   "execution_count": 246,
   "id": "e91b0036",
   "metadata": {},
   "outputs": [
    {
     "data": {
      "text/plain": [
       "'Переименовать колонку таблицы table_for_sql'"
      ]
     },
     "execution_count": 246,
     "metadata": {},
     "output_type": "execute_result"
    }
   ],
   "source": [
    "task=random.choice(list(tasks_ddl))\n",
    "task"
   ]
  },
  {
   "cell_type": "markdown",
   "id": "a3f682f6",
   "metadata": {},
   "source": [
    "### Моё решение"
   ]
  },
  {
   "cell_type": "code",
   "execution_count": 242,
   "id": "4f1105a4",
   "metadata": {},
   "outputs": [
    {
     "name": "stdout",
     "output_type": "stream",
     "text": [
      " * sqlite:///jupyter_sql_tutorial.db\n",
      "Done.\n"
     ]
    },
    {
     "data": {
      "text/plain": [
       "[]"
      ]
     },
     "execution_count": 242,
     "metadata": {},
     "output_type": "execute_result"
    }
   ],
   "source": [
    "%%sql \n",
    "\n",
    "alter table table_for_sql rename column Age to age"
   ]
  },
  {
   "cell_type": "markdown",
   "id": "029d0004",
   "metadata": {},
   "source": [
    "### Проверить решение"
   ]
  },
  {
   "cell_type": "code",
   "execution_count": 243,
   "id": "d3778217",
   "metadata": {},
   "outputs": [
    {
     "data": {
      "text/plain": [
       "'ALTER TABLE table_for_sql RENAME name to NAME'"
      ]
     },
     "execution_count": 243,
     "metadata": {},
     "output_type": "execute_result"
    }
   ],
   "source": [
    "tasks_ddl[task]"
   ]
  },
  {
   "cell_type": "code",
   "execution_count": 247,
   "id": "0afae291",
   "metadata": {},
   "outputs": [
    {
     "name": "stdout",
     "output_type": "stream",
     "text": [
      "Получилось решить задание?да\n"
     ]
    }
   ],
   "source": [
    "answer= input('Получилось решить задание?')\n",
    "diary.loc[len(diary)]=[date.today(),'работа с DDL',task,answer]"
   ]
  },
  {
   "cell_type": "code",
   "execution_count": 248,
   "id": "85cc7620",
   "metadata": {},
   "outputs": [
    {
     "name": "stdout",
     "output_type": "stream",
     "text": [
      "Осталось решить 0\n"
     ]
    }
   ],
   "source": [
    "counter=counter-1\n",
    "print(f'Осталось решить {counter}')"
   ]
  },
  {
   "cell_type": "markdown",
   "id": "1d0dfe7d",
   "metadata": {},
   "source": [
    "### Результаты"
   ]
  },
  {
   "cell_type": "code",
   "execution_count": 249,
   "id": "d5f13067",
   "metadata": {},
   "outputs": [
    {
     "data": {
      "image/png": "[encoded data removed]",
      "text/plain": [
       "<Figure size 640x480 with 1 Axes>"
      ]
     },
     "metadata": {},
     "output_type": "display_data"
    }
   ],
   "source": [
    "type_of_task('работа с DDL')"
   ]
  },
  {
   "cell_type": "markdown",
   "id": "02aa6ff0",
   "metadata": {},
   "source": [
    "# 9 Статистика"
   ]
  },
  {
   "cell_type": "code",
   "execution_count": 250,
   "id": "95240a99",
   "metadata": {},
   "outputs": [],
   "source": [
    "counter=3"
   ]
  },
  {
   "cell_type": "code",
   "execution_count": 251,
   "id": "9ddd3a11",
   "metadata": {},
   "outputs": [],
   "source": [
    "visitors=pd.DataFrame({\"Сумма покупки за день\":[100,150,200,250,350],'Вероятность':[0.4,0.1,0.1,0.2,0.2]})\n",
    "stat_list=[3,7,1,3,8,4,6,3,6,2,3,7,5,3,5,2,4,9,9,8,6,4,1,3,4,5]\n",
    "probability=pd.DataFrame({'часы работы':[9,10,11,12,13,14,15,16,17],'Вероятность зайти клиенту':[0.3,0.2,0.1,0.1,0.05,0.05,0.05,0.05,0.01]})\n",
    "\n",
    "stat={'Комбинации. Сколько комбинаций можно составить из  2 пиджака, 4 рубашки, 3 пары штанов и 2 ремня':'Если есть n объектов одного типа и m объектов другого типа, то составить комбинацию из двух объектов разного типа можно n⋅m способами. n и m — это некоторые положительные целые числа.Правило умножения распространяется на любое количество наборов, из которых берётся хотя бы по одному объекту. Представьте, что у вас в гардеробе есть 2 пиджака, 4 рубашки, 3 пары штанов и 2 ремня. Тогда общее количество костюмов, которые можно составить из этих вещей, можно посчитать так: 2⋅4⋅3⋅2=48',\n",
    "          'Дать определение - Перестановки':'Перестановками называют упорядоченные наборы одних и тех же элементов, которые отличаются только порядком. Например: 𝑎𝑏𝑐 𝑏𝑐𝑎 и 𝑐𝑎𝑏, Pn=n!5! Факториал =1*2*3*4*5=120',\n",
    "          'Размещение,Сколькими способами можно заполнить спортивный пьедестал из трёх мест, если есть 10 претендентов?':'Размещение из n по 𝑘 — это упорядоченный набор из 𝑘 различных элементов, взятых из некоторого множества с мощностью 𝑛, где 𝑘⩽𝑛. То есть некая перестановка 𝑘 выбранных элементов из n.Порядок важен!10! \\ (10−3)! = 720',\n",
    "          'Cочетание В сувенирном магазине продаются 6 видов кружек. Сколько есть способов выбрать 4 разные?':'Cочетание из 𝑛 по 𝑘 — это неупорядоченный набор из 𝑘 различных элементов, взятых из некоторого множества с мощностью n, где 𝑘⩽𝑛. Порядок не важен!6!  / (6−4)!⋅4!=15',\n",
    "            'Сотрудник компании выбирает два месяца для отпуска. Один отпуск он хочет взять весной, а другой — осенью. Сколько есть возможных комбинаций двух месяцев?':'9',\n",
    "            'Индекс региона состоит из шести цифр,первая цифра должна быть равна 3,вторая цифра не должна быть равна 0,остальные четыре цифры могут быть любыми,Посчитайте количество всех возможных индексов':'90 000',\n",
    "            'Сколько различных плейлистов из 12 песен с различным порядком можно составить':'факториал 12!=479001600',\n",
    "            'Размещение - это':' Размещения — это комбинации объектов исходного набора с заданным количеством элементов, которые различаются самими элементами и их расположением (порядок важен)',\n",
    "            'На чемодане есть кодовый замок из 4 цифр. Цифры в коде не должны повторяться. Порядок цифр важен: Сколько комбинаций кода можно придумать?':'5040',\n",
    "            'Сколько мелодий из 3 нот можно составить из  7 нот одной октавы? Порядок учитывается:':'210',\n",
    "            'Игрок участвует в телевизионной викторине. Требуется отгадать слово из 10 букв. Игрок может «открыть» любые 3 буквы. Сколько вариантов выбора у него есть?':'120',\n",
    "            'Вероятность события A в эксперименте B — это':'— это число от 0 до 1, которое показывает, какую долю исходов событие A составляет от всего вероятностного пространства эксперимента B. Иначе говоря, чтобы найти вероятность события A нужно разделить количество исходов в этом событии на общее число возможных исходов в эксперименте.Вероятность может обозначаться как числом, например, 0 или 0.3, так и процентами, например, 30 %',\n",
    "            'непрерывные переменные':'Переменные, которые могут принимать любое численное значение, называются непрерывными, например время и вес',\n",
    "            'дискретны переменные':'Переменные, которые могут принимать только числовые значения из определённого набора значений, называются дискретными. Дискретной величиной могут быть как целые, так и дробные числа, например количество людей и размер обуви',\n",
    "            'мода, медиана, среднее значение':'Мода — это значение, которое величина принимает наиболее часто.Медиана в статистике — это значение, которое делит упорядоченный ряд данных на две равные части, где половина наблюдений меньше, а другая половина больше этого значения',\n",
    "            'Найти моду веса в data':\"data['Вес к оплате, кг'].mode()\",\n",
    "            'Найти моду листа stat_list':'from statistics import mode  mode(stat_list)',\n",
    "            'Найти медиану веса в data':\"data['Вес к оплате, кг'].median()\",\n",
    "            'Найти медиану stat_list':'import statistics statistics.median(stat_list)',\n",
    "             'Найти среднее stat_list':'import statistics statistics.mean(stat_list)',\n",
    "            'Найти среднее веса в data':\"data['Вес к оплате, кг'].mean()\",\n",
    "             'Найти дисперсию и стандартное отклонение stat_list без использования библиотек ':'b=0 c=0 for i in stat_list: a=(i-mean)**2 b=b+a c=c+1 b/c (b/c)**0.5',\n",
    "             'Найти дисперсию и стандартное отклонение stat_list с помощью библиотеки numpy ':'np.std(stat_list) numpy.std(stat_list)',\n",
    "            'Найти корень из числа с помощью библиотеки numpy':'numpy.sqrt(64)',\n",
    "          'Найти размах stat_list':'max(stat_list)-min(stat_list)',\n",
    "          'Найти межквартальный размах stat_list с помощью numpy':'q25,q75=numpy.percentile(stat_list,[25,75]) iqr = q75 - q25',\n",
    "          \"Найти 10 процентель stat_list с помощью numpy\":\"numpy.percentile(stat_list,10)\",\n",
    "          'Построить диаграмму размаха для stat_list с помощью matplotlib ':'plt.boxplot(stat_list)',\n",
    "          '1, 1, 2, 2, 2, 2, 3, 4, 4, 5 какая вероятность, что выиграет число 2, какая вероятность, что выграет число 5':'вероятность числа 2 =0,4 вероятность числа 5 =0,1 ',\n",
    "          'найти вероятность, что клиент придёт до 13 и после 13 включительно':'до 0.7 после 0.3',\n",
    "          'найти математическое ожидание случайной величины visitors':\"sum(visitors['Сумма покупки']*visitors['Вероятность'])\",\n",
    "          'Испытания Бернулли':'Испытания Бернулли – это последовательность независимых испытаний, в каждом из которых возможны только два исхода – «успех» и «неудача».',\n",
    "          'Биномиальный эксперимент':'Биномиальный эксперимент — это эксперимент, в котором подряд проводят несколько одинаковых и независимых друг от друга испытаний Бернулли.',\n",
    "          \"Питон вырастает добрым с вероятностью  90%, злым 10%. Возьмём двух случайных питонов: Какова вероятность, что один из них будет добрым, а другой — злым?\":\"0.9*0.1*2=0.18 Умножаем на 2 потому что, здесь подойдут два исхода: «Первый злой, а второй добрый» и «первый добрый, а второй злой». \",\n",
    "          \"Питон вырастает добрым с вероятностью  90%, злым 10%. Возьмём двух случайных питонов: 1) Какова вероятность, что один из них будет добрым, а другой — злым? 2) Что оба будут злые 3) Что оба будут добрыми\":\"0.9*0.1*2=0.18 Умножаем на 2 потому что, здесь подойдут два исхода: «Первый злой, а второй добрый» и «первый добрый, а второй злой». Вероятность исхода «оба добрые» равна  0.9*2=0.81, «оба злые» равна 0.1*2=0.01\",\n",
    "          \"Питон вырастает добрым с вероятностью  90%, злым 10%. Возьмём трёх случайных питонов: какова вероятнось, что  «два питона добрые, а один злой»\":'0.9*0.9*0.1*3=0.24',\n",
    "          'Вероятность, что письмо будет открыть 20%, какая вероятность, что будет открыто 2 письма из 10':'Вероятность двух успехов равна 0.2**2, вероятность восьми неудач равна 0.8**8 количество подходящих исходов равно формуле сочетания 2 из 10 это 10!\\((10-2)!*2!).Получим 45*(0.2**2)*(0.8**8) =0.3',\n",
    "          'Биномиальное распределение':'Биномиальное распределение — это распределение вероятностей числа появлений некоторого события при независимых испытаниях (опытах) в схеме Бернулли, если вероятность. Если вероятность 50% график симметричный, если меньше 50% то график смещается в лево, если больше 50% то смещается вправо',\n",
    "          'Нормальное распределение — это':'Нормальное распределение — это особый тип распределения, при котором большинство значений сосредоточено около среднего. Его также называют гауссовым распределением',\n",
    "          'Распределе́ние Пуассо́на':'— распределение дискретного типа случайной величины, представляющей собой число событий, произошедших за фиксированное время, при условии, что данные события происходят с некоторой фиксированной средней интенсивностью и независимо друг от друга.Примеры процессов, которые можно описать распределением Пуассона:•Футболисты забивают голы со средней интенсивностью 2.7гола за матч.•В кафе в часы обеда обычно заказывают в среднем 35 порций супа в час.•В течение полярной ночи в заполярном городе северное сияние появляется обычно 3 раза в неделю.•Летом в определённой местности происходят торнадо — в среднем 8.1 торнадо в месяц.',\n",
    "          'Аппроксимация- это':'Аппроксимация (лат. approximatis — поблизости) — это математический термин для приближения. Аппроксимировать — значит найти значения, близкие к интересующим исследователя.',\n",
    "          'Корреляция':'Корреляция Взаимосвязь двух или нескольких величин называется «корреляция». Определяется с помощью коэффициента корреляции Пирсона. Он помогает определить наличие линейной связи между величинами и принимает значения от -1 до 1',\n",
    "          'Вероятность':'Вероятность события A в эксперименте B— это число от 0 до 1, которое показывает, какую долю исходов событие A составляет от всего вероятностного пространства эксперимента B. Иначе говоря, чтобы найти вероятность события A, нужно разделить количество исходов в этом событии на общее число возможных исходов в эксперименте. Вероятность может обозначаться как числом, например, 0 или 0.3, так и процентами, например, 30 %',\n",
    "          'Дискретная переменная':'Переменная является дискретной, если она не может принять любое значение. Пример, размер обуви(36 36,5 38), количество проданных машин Переменная, которая может принять любое значение, является непрерывнойПример вес, рост, время',\n",
    "          'Поправка Бесселя':'Поправка Бесселя используется, когда мы считаем дисперсию не в генеральной совокупности, а в выборке ',\n",
    "          'Межквартильный размах ':'Межквартильный размах — это размах половины значений набора данных, которые находятся вокруг медианы. Это ближайшие к медиане значения: 25 %меньше неё и 25 % больше.',\n",
    "          'Процентилем ':'Процентилем некоторого уровня (p-м процентилем) называют значение из набора данных, меньше которого ровно p % элементов всего набора данных.Судя по определению, квартили — это частные случаи процентиля. Поскольку первый квартиль — это значение, левее которого лежит ровно 25 %всего набора данных, то первый квартиль также можно называть 25-м процентилем. Аналогично медиана — это 50-й процентиль, а третий квартиль — это 75-й процентиль.Процентили нужны в случаях, когда нужно найти значение из набора данных, которое отделяет определённую часть всего набора. Например, если нужно найти «возраст сотрудников компании, меньше которого ровно 33 % всех сотрудников». Именно такая универсальность и делает процентиль мощным инструментом в руках любого математика.',\n",
    "          'экспериментом (испытанием) Бернулли':'Испытание с двумя исходами называют экспериментом (испытанием) Бернулли.',\n",
    "          'Биномиальный эксперимент':'Биномиальный эксперимент — это эксперимент, в котором подряд проводят несколько одинаковых и независимых друг от друга испытаний Бернулли.',\n",
    "          'Нормальное распределение ':'Нормальное распределение — это особый тип распределения, при котором большинство значений сосредоточено около среднего. Его также называют гауссовым распределением, законом Гаусса или колоколообразным распределением.  Суть нормального распределения: значения случайной величины будут сгруппированы вокруг среднего значения, и чем дальше от среднего значения, тем меньше вероятность того, что такое значение появится',\n",
    "          'Распределе́ние Пуассо́на':'— распределение дискретного типа случайной величины, представляющей собой число событий, произошедших за фиксированное время, при условии, что данные события происходят с некоторой фиксированной средней интенсивностью и независимо друг от друга.Примеры процессов, которые можно описать распределением Пуассона:•Футболисты забивают голы со средней интенсивностью 2.7гола за матч.•В кафе в часы обеда обычно заказывают в среднем 35 порций супа в час.•В течение полярной ночи в заполярном городе северное сияние появляется обычно 3 раза в неделю.•Летом в определённой местности происходят торнадо — в среднем 8.1 торнадо в месяц.',\n",
    "          'Репрезентативность':'Репрезентативность — это свойство выборки, которое позволяет ей точно отражать характеристики и особенности генеральной совокупности. Репрезентативная выборка должна быть достаточно большой и разнообразной, чтобы представлять всю генеральную совокупность.',\n",
    "          'Центральная предельная теорема':'Распространённая формулировка центральной предельной теоремы (сокращённо ЦПТ) звучит так: сумма независимых одинаково распределённых случайных величин стремится к нормальному распределению по мере увеличения их количества.',\n",
    "          'p-value ':'Помните: p-value — это лишь вероятность получить наблюдаемое или ещё более далёкое от предполагаемого в H0 значения при условии, что H0 верна. Проще говоря, с помощью p-value можно оценить, насколько необычны наши данные, если предположение об истинном значении параметра верно.Если p-value меньше 5%, то нулевая гипотеза отвергается Напомним, что уровень статистической значимости — это вероятность случайно получить в реальном наблюдении значение, далёкое от предполагаемого в нулевой гипотезе.',\n",
    "          'Распределение Стьюдента':'Распределение СтьюдентаЕсли значений в выборке немного (не больше 20–30), то распределение, соответствующее нулевой гипотезе, будет немного шире нормального. Больший разброс объясняется недостатком данных.Такое распределение называется t-распределением Стьюдента.Количество наблюдений в выборке (за вычетом единицы) при построении распределения Стьюдента официально называется количеством степеней свободы.',\n",
    "          \"Закон Парето\":\"Закон Парето (или правило 80/20) — принцип, согласно которому 80% результата дают 20% приложенных усилий, а остальные 80% усилий дают только 20% результата.\",\n",
    "          'хи-квадрат':'Критерий хи-квадрат — это метод в математической статистике. Он показывает различия между фактическими данными в выборке и теоретическими результатами, которые предположил исследователь. С помощью метода оценивают, соответствует ли выборка законам распределения.'\n",
    "      \n",
    "           \n",
    "           \n",
    "           }\n"
   ]
  },
  {
   "cell_type": "markdown",
   "id": "27abd731",
   "metadata": {},
   "source": [
    "### Задача"
   ]
  },
  {
   "cell_type": "code",
   "execution_count": 277,
   "id": "6d9d284c",
   "metadata": {},
   "outputs": [
    {
     "data": {
      "text/plain": [
       "'На чемодане есть кодовый замок из 4 цифр. Цифры в коде не должны повторяться. Порядок цифр важен: Сколько комбинаций кода можно придумать?'"
      ]
     },
     "execution_count": 277,
     "metadata": {},
     "output_type": "execute_result"
    }
   ],
   "source": [
    "task=random.choice(list(stat))\n",
    "task"
   ]
  },
  {
   "cell_type": "markdown",
   "id": "e298b8fd",
   "metadata": {},
   "source": [
    "### Моё решение"
   ]
  },
  {
   "cell_type": "code",
   "execution_count": 278,
   "id": "b98563c3",
   "metadata": {},
   "outputs": [
    {
     "data": {
      "text/plain": [
       "5040.0"
      ]
     },
     "execution_count": 278,
     "metadata": {},
     "output_type": "execute_result"
    }
   ],
   "source": [
    "math.factorial(10)/math.factorial(10-4)"
   ]
  },
  {
   "cell_type": "markdown",
   "id": "ff5e65fa",
   "metadata": {},
   "source": [
    "### Проверить решение"
   ]
  },
  {
   "cell_type": "code",
   "execution_count": 279,
   "id": "7eb2d956",
   "metadata": {},
   "outputs": [
    {
     "data": {
      "text/plain": [
       "'5040'"
      ]
     },
     "execution_count": 279,
     "metadata": {},
     "output_type": "execute_result"
    }
   ],
   "source": [
    "stat[task]"
   ]
  },
  {
   "cell_type": "code",
   "execution_count": 280,
   "id": "bd49b358",
   "metadata": {},
   "outputs": [
    {
     "name": "stdout",
     "output_type": "stream",
     "text": [
      "Получилось решить задание?да\n"
     ]
    }
   ],
   "source": [
    "answer= input('Получилось решить задание?')\n",
    "diary.loc[len(diary)]=[date.today(),'Статистика',task,answer]"
   ]
  },
  {
   "cell_type": "code",
   "execution_count": 281,
   "id": "2fa59861",
   "metadata": {},
   "outputs": [
    {
     "name": "stdout",
     "output_type": "stream",
     "text": [
      "Осталось решить 0\n"
     ]
    }
   ],
   "source": [
    "counter=counter-1\n",
    "print(f'Осталось решить {counter}')"
   ]
  },
  {
   "cell_type": "markdown",
   "id": "03002be3",
   "metadata": {},
   "source": [
    "### Результаты"
   ]
  },
  {
   "cell_type": "code",
   "execution_count": 282,
   "id": "bd486e61",
   "metadata": {},
   "outputs": [
    {
     "data": {
      "image/png": "[encoded data removed]",
      "text/plain": [
       "<Figure size 640x480 with 1 Axes>"
      ]
     },
     "metadata": {},
     "output_type": "display_data"
    }
   ],
   "source": [
    "type_of_task('Статистика')"
   ]
  },
  {
   "cell_type": "markdown",
   "id": "a3827e64",
   "metadata": {},
   "source": [
    "# Итоговые результаты"
   ]
  },
  {
   "cell_type": "code",
   "execution_count": 283,
   "id": "eab3ea19",
   "metadata": {},
   "outputs": [],
   "source": [
    "diary=diary[(diary['решила?']=='да')|(diary['решила?']=='нет')]"
   ]
  },
  {
   "cell_type": "code",
   "execution_count": 285,
   "id": "8b259fb2",
   "metadata": {},
   "outputs": [
    {
     "data": {
      "image/png": "[encoded data removed]",
      "text/plain": [
       "<Figure size 1500x500 with 2 Axes>"
      ]
     },
     "metadata": {},
     "output_type": "display_data"
    }
   ],
   "source": [
    "a=diary2[diary2['задание'].notnull()]['дата'].nunique()\n",
    "b=diary2[diary2['задание'].isnull()]['дата'].nunique()\n",
    "all_date=pd.DataFrame({'дата':[i for i in (pd.date_range(start=diary['дата'].min(), end=diary['дата'].max()).date)]})\n",
    "diary2=all_date.merge(diary,how='left')\n",
    "plt.subplot(1, 2,1)\n",
    "diary2.groupby('дата').count()['задание'].plot.bar(figsize=(15,5))\n",
    "plt.title('Количество выполненных заданий в день')\n",
    "plt.subplot(1, 2, 2)\n",
    "plt.pie(x=[a,b],labels=['Дней упражнялась','Дней не упражнялась'],autopct='%1.0f%%')\n",
    "plt.show()"
   ]
  },
  {
   "cell_type": "code",
   "execution_count": 286,
   "id": "b9161b07",
   "metadata": {},
   "outputs": [
    {
     "name": "stdout",
     "output_type": "stream",
     "text": [
      "За период с 2024-12-01 до 2024-12-21 я занималась 18 дней и 3 дней не занималась\n"
     ]
    }
   ],
   "source": [
    "print(f\"За период с {diary2['дата'].min()} до {diary2['дата'].max()} я занималась {a} дней и {b} дней не занималась\")"
   ]
  },
  {
   "cell_type": "code",
   "execution_count": 287,
   "id": "0c4cd982",
   "metadata": {},
   "outputs": [
    {
     "data": {
      "image/png": "[encoded data removed]",
      "text/plain": [
       "<Figure size 640x480 with 1 Axes>"
      ]
     },
     "metadata": {},
     "output_type": "display_data"
    }
   ],
   "source": [
    "diary.pivot_table(index=('раздел'),columns='решила?',values='задание',aggfunc='count').plot.barh(stacked=True)\n",
    "plt.title('Соотношение правильно и неправильно выполненных заданий')\n",
    "plt.show()"
   ]
  },
  {
   "cell_type": "markdown",
   "id": "7a2323b7",
   "metadata": {},
   "source": [
    "# Сохраняем полученные результаты"
   ]
  },
  {
   "cell_type": "code",
   "execution_count": 288,
   "id": "c50cb918",
   "metadata": {},
   "outputs": [],
   "source": [
    "diary.to_excel (r'C:/Users/Natalya/Desktop/Учёба/diary.xlsx', index= False )"
   ]
  }
 ],
 "metadata": {
  "kernelspec": {
   "display_name": "Python 3 (ipykernel)",
   "language": "python",
   "name": "python3"
  },
  "language_info": {
   "codemirror_mode": {
    "name": "ipython",
    "version": 3
   },
   "file_extension": ".py",
   "mimetype": "text/x-python",
   "name": "python",
   "nbconvert_exporter": "python",
   "pygments_lexer": "ipython3",
   "version": "3.11.5"
  }
 },
 "nbformat": 4,
 "nbformat_minor": 5
}
